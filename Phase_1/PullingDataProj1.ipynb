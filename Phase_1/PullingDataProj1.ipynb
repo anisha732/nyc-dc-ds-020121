{
 "cells": [
  {
   "cell_type": "markdown",
   "metadata": {},
   "source": [
    "# Pulling in Businesses\n",
    "Pulling in Thai and Mexican Restaurant businesses Yelp API's, then parsing that data, and saving to csv files."
   ]
  },
  {
   "cell_type": "code",
   "execution_count": null,
   "metadata": {},
   "outputs": [],
   "source": [
    "import pandas as pd\n",
    "import requests\n",
    "import json\n",
    "import numpy as np\n",
    "\n",
    "url = 'https://api.yelp.com/v3/businesses/search'\n",
    "api_key = \"S3cROVIGs17gTiCO6iy8-2ycbL999zhz84ANxStc2mYNESu0cKfM4qdarKNZ69t-2bnTPSR_RRTTCTKmpQidQYhD1mpVN1zvyo0EGTVthI7SVumcOA3IZrRgj5omYHYx\"\n",
    "headers = {\n",
    "        'Authorization': 'Bearer {}'.format(api_key),\n",
    "    }\n",
    "\n",
    "# what type of business do you want to search\n",
    "term = 'Thai'\n",
    "term2 = 'Mexican'\n",
    "#where do you want to perform this search\n",
    "location = 'NYC'\n",
    "\n",
    "# what is your other parameter you want to search against\n",
    "categories = 'restaurants'\n",
    "url_params = {\n",
    "                \"term\": term.replace(' ', '+'),\n",
    "                \"location\": location.replace(' ', '+'),\n",
    "                \"categories\" : categories,\n",
    "                \"limit\": 50,\n",
    "                \"offset\": None\n",
    "    \n",
    "            }\n",
    "url_params2 = {\n",
    "                \"term\": term2.replace(' ', '+'),\n",
    "                \"location\": location.replace(' ', '+'),\n",
    "                \"categories\" : categories,\n",
    "                \"limit\": 50,\n",
    "                \"offset\": None\n",
    "            }"
   ]
  },
  {
   "cell_type": "code",
   "execution_count": null,
   "metadata": {},
   "outputs": [],
   "source": [
    "#SCRIPT FOR THAI\n",
    "\n",
    "# create a variable  to keep track of which result you are in. \n",
    "cur = 0\n",
    "url_params['offset']=0\n",
    "\n",
    "#set up a while loop to go through and grab the result \n",
    "while cur < 500 :\n",
    "    #set the offset parameter to be where you currently are in the results \n",
    "    url_params['offset'] = cur\n",
    "    print(cur)\n",
    "    #make your API call with the new offset number\n",
    "    results = yelp_call(url_params)\n",
    "    \n",
    "    #after you get your results you can now use your function to parse those results\n",
    "    parsed_results = parse_results(results)\n",
    "    # use your function to insert your parsed results into the db\n",
    "    df_save('thaii.csv', parsed_results)\n",
    "    #increment the counter by 50 to move on to the next results\n",
    "    cur += 50\n",
    "    "
   ]
  },
  {
   "cell_type": "code",
   "execution_count": null,
   "metadata": {},
   "outputs": [],
   "source": [
    "#SCRIPT FOR MEXICAN\n",
    "\n",
    "# create a variable  to keep track of which result you are in. \n",
    "cur = 0\n",
    "url_params2['offset']=0\n",
    "\n",
    "#set up a while loop to go through and grab the result \n",
    "while cur < 500 :\n",
    "    #set the offset parameter to be where you currently are in the results \n",
    "    url_params2['offset'] = cur\n",
    "    print(cur)\n",
    "    #make your API call with the new offset number\n",
    "    results_mex = yelp_call(url_params2)\n",
    "    \n",
    "    #after you get your results you can now use your function to parse those results\n",
    "    parsed_results_mex = parse_results(results_mex)\n",
    "    # use your function to insert your parsed results into the db\n",
    "    df_save('mexx.csv', parsed_results_mex)\n",
    "    #increment the counter by 50 to move on to the next results\n",
    "    cur += 50"
   ]
  },
  {
   "cell_type": "markdown",
   "metadata": {},
   "source": [
    "# Pulling in Reviews\n",
    "Pulling in Thai and Mexican Restaurant business reviews from the Yelp API's, then parsing that data, and saving to csv files."
   ]
  },
  {
   "cell_type": "code",
   "execution_count": null,
   "metadata": {},
   "outputs": [],
   "source": [
    "headers = {'Authorization': 'Bearer {}'.format(api_key)}\n",
    "categories = 'restaurants'\n",
    "url_params_rev = {\"limit\": 50}"
   ]
  },
  {
   "cell_type": "code",
   "execution_count": null,
   "metadata": {},
   "outputs": [],
   "source": [
    "#THAI REVIEWS SCRIPT\n",
    "\n",
    "thai_yelpcall = yelp_call_rev(url_params, thaidf)\n",
    "\n",
    "thai_parsed_results = parse_results_review(thai_yelpcall, thaidf)\n",
    "\n",
    "df_save_review('thaireview.csv', thai_parsed_results) "
   ]
  },
  {
   "cell_type": "code",
   "execution_count": null,
   "metadata": {},
   "outputs": [],
   "source": [
    "#MEXICAN REVIEWS SCRIPT\n",
    "\n",
    "mex_yelpcall = yelp_call_rev(url_params, mexdf)\n",
    "    \n",
    "mex_parsed_results=parse_results_review(mex_yelpcall, mexdf)\n",
    "  \n",
    "df_save_review('mexreview.csv',mex_parsed_results)"
   ]
  }
 ],
 "metadata": {
  "kernelspec": {
   "display_name": "Python 3",
   "language": "python",
   "name": "python3"
  },
  "language_info": {
   "codemirror_mode": {
    "name": "ipython",
    "version": 3
   },
   "file_extension": ".py",
   "mimetype": "text/x-python",
   "name": "python",
   "nbconvert_exporter": "python",
   "pygments_lexer": "ipython3",
   "version": "3.8.5"
  }
 },
 "nbformat": 4,
 "nbformat_minor": 4
}

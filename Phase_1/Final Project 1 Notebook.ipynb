{
 "cells": [
  {
   "cell_type": "code",
   "execution_count": 1,
   "metadata": {},
   "outputs": [],
   "source": [
    "import pandas as pd\n",
    "import requests\n",
    "import json\n",
    "import numpy as np\n",
    "import matplotlib.pyplot as plt\n",
    "import seaborn as sns\n",
    "import geopandas as gpd\n",
    "from datetime import datetime\n",
    "from functions import *"
   ]
  },
  {
   "cell_type": "code",
   "execution_count": 11,
   "metadata": {},
   "outputs": [],
   "source": [
    "thai_rev_df=pd.read_csv('/Users/anishamalhotra/Documents/Flatiron/Phase1Project/Data/thaireview.csv')\n",
    "mex_rev_df=pd.read_csv('/Users/anishamalhotra/Documents/Flatiron/Phase1Project/Data/mexreview.csv')\n"
   ]
  },
  {
   "cell_type": "code",
   "execution_count": null,
   "metadata": {},
   "outputs": [],
   "source": [
    "thaidf['type']='Thai'\n",
    "mexdf['type']='Mexican'"
   ]
  },
  {
   "cell_type": "code",
   "execution_count": null,
   "metadata": {},
   "outputs": [],
   "source": [
    "df=pd.concat([thaidf,mexdf])\n",
    "df_review=pd.concat([thai_rev_df,mex_rev_df])\n",
    "df=df.set_index('Id')\n",
    "df_review=df_review.set_index('ID')"
   ]
  },
  {
   "cell_type": "code",
   "execution_count": null,
   "metadata": {},
   "outputs": [],
   "source": [
    "#had duplicate indicies so dropped that column\n",
    "df=df.drop(df.columns[0], axis=1)\n",
    "df_review=df_review.drop(df_review.columns[0],axis=1)\n",
    "\n",
    "#had headers in place of data so removed those rows\n",
    "df = df[df['Rating']!='Rating']\n",
    "thaidf=thaidf[thaidf['Rating']!='Rating']\n",
    "mexdf=mexdf[mexdf['Rating']!='Rating']\n",
    "\n",
    "#changed column types from objects to type of choice\n",
    "df['Review Count']=df['Review Count'].astype(int)\n",
    "df['Rating']=df['Rating'].astype(float)\n",
    "df['Price']=df['Price'].astype('string')\n",
    "thaidf['Rating']=thaidf['Rating'].astype(float)\n",
    "mexdf['Rating']=mexdf['Rating'].astype(float)\n",
    "\n",
    "#convert data to datetime object and sort by date\n",
    "df_review['Date'].map(convert_dt)\n",
    "df_review = df_review.sort_values(by='Date',ascending=False)\n",
    "\n",
    "#convert price to number of dollar signs\n",
    "thaidf['Price'] = thaidf['Price'].fillna('0')\n",
    "thaidf['Price'] = thaidf['Price'].map(convert_to_len)\n",
    "mexdf['Price'] = mexdf['Price'].fillna('0')\n",
    "mexdf['Price'] = mexdf['Price'].map(convert_to_len)\n"
   ]
  },
  {
   "cell_type": "code",
   "execution_count": 15,
   "metadata": {},
   "outputs": [
    {
     "ename": "NameError",
     "evalue": "name 'rest_services_visual' is not defined",
     "output_type": "error",
     "traceback": [
      "\u001b[0;31m---------------------------------------------------------------------------\u001b[0m",
      "\u001b[0;31mNameError\u001b[0m                                 Traceback (most recent call last)",
      "\u001b[0;32m<ipython-input-15-b318b119141b>\u001b[0m in \u001b[0;36m<module>\u001b[0;34m\u001b[0m\n\u001b[0;32m----> 1\u001b[0;31m \u001b[0mrest_services_visual\u001b[0m\u001b[0;34m(\u001b[0m\u001b[0;34m)\u001b[0m\u001b[0;34m\u001b[0m\u001b[0;34m\u001b[0m\u001b[0m\n\u001b[0m",
      "\u001b[0;31mNameError\u001b[0m: name 'rest_services_visual' is not defined"
     ]
    }
   ],
   "source": [
    "rest_services_visual()"
   ]
  },
  {
   "cell_type": "code",
   "execution_count": null,
   "metadata": {},
   "outputs": [],
   "source": []
  }
 ],
 "metadata": {
  "kernelspec": {
   "display_name": "Python 3",
   "language": "python",
   "name": "python3"
  },
  "language_info": {
   "codemirror_mode": {
    "name": "ipython",
    "version": 3
   },
   "file_extension": ".py",
   "mimetype": "text/x-python",
   "name": "python",
   "nbconvert_exporter": "python",
   "pygments_lexer": "ipython3",
   "version": "3.8.5"
  }
 },
 "nbformat": 4,
 "nbformat_minor": 4
}

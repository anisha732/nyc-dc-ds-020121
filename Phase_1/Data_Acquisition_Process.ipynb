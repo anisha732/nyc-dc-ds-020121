{
 "cells": [
  {
   "cell_type": "markdown",
   "metadata": {},
   "source": [
    "# Getting Your Data From Yelp!"
   ]
  },
  {
   "cell_type": "markdown",
   "metadata": {},
   "source": [
    "## Part 2 - Create ETL pipeline for the business data from the API\n",
    "\n",
    "Now that you know what data you need from the API, you want to write code that will execute a api call, parse those results and then insert the results into the DB.  \n",
    "\n",
    "It is helpful to break this up into three different functions (*api call, parse results, and insert into DB*) and then you can write a function/script that pull the other three functions together. \n",
    "\n",
    "Let's first do this for the Business endpoint."
   ]
  },
  {
   "cell_type": "markdown",
   "metadata": {},
   "source": [
    "- Write a function to make a call to the yelp API"
   ]
  },
  {
   "cell_type": "code",
   "execution_count": 1169,
   "metadata": {},
   "outputs": [],
   "source": [
    "import pandas as pd\n",
    "import requests\n",
    "import json\n",
    "import numpy as np\n",
    "import matplotlib.pyplot as plt\n",
    "import seaborn as sns\n",
    "import geopandas as gpd\n",
    "import warnings\n",
    "\n",
    "url = 'https://api.yelp.com/v3/businesses/search'\n",
    "api_key = \"S3cROVIGs17gTiCO6iy8-2ycbL999zhz84ANxStc2mYNESu0cKfM4qdarKNZ69t-2bnTPSR_RRTTCTKmpQidQYhD1mpVN1zvyo0EGTVthI7SVumcOA3IZrRgj5omYHYx\"\n",
    "headers = {\n",
    "        'Authorization': 'Bearer {}'.format(api_key),\n",
    "    }\n",
    "\n",
    "# what type of business do you want to search\n",
    "term = 'Thai'\n",
    "term2 = 'Mexican'\n",
    "#where do you want to perform this search\n",
    "location = 'NYC'\n",
    "\n",
    "# what is your other parameter you want to search against\n",
    "categories = 'restaurants'\n",
    "url_params = {\n",
    "                \"term\": term.replace(' ', '+'),\n",
    "                \"location\": location.replace(' ', '+'),\n",
    "                \"categories\" : categories,\n",
    "                \"limit\": 50,\n",
    "                \"offset\": None\n",
    "    \n",
    "            }\n",
    "url_params2 = {\n",
    "                \"term\": term2.replace(' ', '+'),\n",
    "                \"location\": location.replace(' ', '+'),\n",
    "                \"categories\" : categories,\n",
    "                \"limit\": 50,\n",
    "                \"offset\": None\n",
    "            }"
   ]
  },
  {
   "cell_type": "code",
   "execution_count": 843,
   "metadata": {},
   "outputs": [],
   "source": [
    "\n",
    "def yelp_call(url_params):\n",
    "    \n",
    "    response = requests.get(url, headers=headers, params=url_params)\n",
    "    return response.json()['total']\n",
    "    "
   ]
  },
  {
   "cell_type": "markdown",
   "metadata": {},
   "source": [
    "- Write a function to parse the API response so that you can easily insert the data in to the DB"
   ]
  },
  {
   "cell_type": "code",
   "execution_count": 133,
   "metadata": {},
   "outputs": [],
   "source": [
    "def parse_results(list_of_data):\n",
    "    # create a container to hold our parsed data\n",
    "    biz_list = []\n",
    "    # loop through our business and \n",
    "    for business in list_of_data:\n",
    "    # parse each individual business into a tuple\n",
    "    #parseing out transactions\n",
    "        if 'pickup'in business['transactions']:\n",
    "            business['pickup'] = True\n",
    "        else:\n",
    "            business['pickup'] = False\n",
    "        if 'delivery' in business['transactions']:\n",
    "            business['delivery'] = True\n",
    "        else:\n",
    "            business['delivery'] = False\n",
    "        if 'restaurant_reservation' in business['transactions']:\n",
    "            business['restaurant_reservation'] = True\n",
    "        else:\n",
    "            business['restaurant_reservation'] = False\n",
    "    \n",
    "    #checking if price is there\n",
    "        if 'price' not in business:\n",
    "            business['price'] = np.nan\n",
    "        biz_tuple = (business['id'],\n",
    "                     business['name'],\n",
    "                     business['location']['address1'],\n",
    "                     business['rating'],\n",
    "                     business['price'],\n",
    "                     business['location']['zip_code'],\n",
    "                     business['pickup'],\n",
    "                     business['delivery'],\n",
    "                     business['restaurant_reservation'],\n",
    "                     business['review_count'],\n",
    "                     business['categories'],\n",
    "                     business['is_closed'])   \n",
    "    # add each individual business tuple to our data container\n",
    "        biz_list.append(biz_tuple)\n",
    "    # return the container with all of the parsed results\n",
    "    return biz_list"
   ]
  },
  {
   "cell_type": "markdown",
   "metadata": {},
   "source": [
    "- Write a function to take your parsed data and add it to the csv file where you will store all of your results. "
   ]
  },
  {
   "cell_type": "code",
   "execution_count": 152,
   "metadata": {},
   "outputs": [],
   "source": [
    "def df_save(csv_file_path, parsed_results):\n",
    "    # your code to open the csv file, concat the current data, and save the data. \n",
    "    business_df = pd.DataFrame(parsed_results, columns = ['Id','Name', 'Location', 'Rating', 'Price', 'Zipcode', 'Pickup', 'Delivery', 'Reservation', 'Review Count', 'Categories','Status'])\n",
    "    x = business_df.to_csv(csv_file_path, mode = 'a')\n",
    "#     new_df = pd.read_csv(csv_file_path, delimiter = \",\")\n",
    "    return x\n",
    "#     pd.DataFrame(parsed_results).to_csv()"
   ]
  },
  {
   "cell_type": "code",
   "execution_count": 1166,
   "metadata": {},
   "outputs": [],
   "source": [
    "from functions import *"
   ]
  },
  {
   "cell_type": "code",
   "execution_count": null,
   "metadata": {},
   "outputs": [],
   "source": []
  },
  {
   "cell_type": "markdown",
   "metadata": {},
   "source": [
    "- Write a script that combines the three functions above into a single process."
   ]
  },
  {
   "cell_type": "markdown",
   "metadata": {},
   "source": [
    "While it will take some experimentation to write the functions above, once you get them working it will be best to put them in a `.py` file and then import the functions to use in a script "
   ]
  },
  {
   "cell_type": "code",
   "execution_count": 163,
   "metadata": {},
   "outputs": [
    {
     "name": "stdout",
     "output_type": "stream",
     "text": [
      "0\n",
      "50\n",
      "100\n",
      "150\n",
      "200\n",
      "250\n",
      "300\n",
      "350\n",
      "400\n",
      "450\n"
     ]
    }
   ],
   "source": [
    "#SCRIPT FOR THAI\n",
    "\n",
    "# create a variable  to keep track of which result you are in. \n",
    "cur = 0\n",
    "url_params['offset']=0\n",
    "\n",
    "#set up a while loop to go through and grab the result \n",
    "while cur < 500 :\n",
    "    #set the offset parameter to be where you currently are in the results \n",
    "    url_params['offset'] = cur\n",
    "    print(cur)\n",
    "    #make your API call with the new offset number\n",
    "    results = yelp_call(url_params)\n",
    "    \n",
    "    #after you get your results you can now use your function to parse those results\n",
    "    parsed_results = parse_results(results)\n",
    "    # use your function to insert your parsed results into the db\n",
    "    df_save('thaii.csv', parsed_results)\n",
    "    #increment the counter by 50 to move on to the next results\n",
    "    cur += 50\n",
    "    "
   ]
  },
  {
   "cell_type": "code",
   "execution_count": 173,
   "metadata": {},
   "outputs": [
    {
     "name": "stdout",
     "output_type": "stream",
     "text": [
      "0\n",
      "50\n",
      "100\n",
      "150\n",
      "200\n",
      "250\n",
      "300\n",
      "350\n",
      "400\n",
      "450\n"
     ]
    }
   ],
   "source": [
    "#SCRIPT FOR MEXICAN\n",
    "\n",
    "# create a variable  to keep track of which result you are in. \n",
    "cur = 0\n",
    "url_params2['offset']=0\n",
    "\n",
    "#set up a while loop to go through and grab the result \n",
    "while cur < 500 :\n",
    "    #set the offset parameter to be where you currently are in the results \n",
    "    url_params2['offset'] = cur\n",
    "    print(cur)\n",
    "    #make your API call with the new offset number\n",
    "    results_mex = yelp_call(url_params2)\n",
    "    \n",
    "    #after you get your results you can now use your function to parse those results\n",
    "    parsed_results_mex = parse_results(results_mex)\n",
    "    # use your function to insert your parsed results into the db\n",
    "    df_save('mexx.csv', parsed_results_mex)\n",
    "    #increment the counter by 50 to move on to the next results\n",
    "    cur += 50"
   ]
  },
  {
   "cell_type": "code",
   "execution_count": 1028,
   "metadata": {},
   "outputs": [],
   "source": [
    "thaidf = pd.read_csv('thaii.csv')"
   ]
  },
  {
   "cell_type": "code",
   "execution_count": 1029,
   "metadata": {},
   "outputs": [],
   "source": [
    "mexdf = pd.read_csv('mexx.csv')"
   ]
  },
  {
   "cell_type": "markdown",
   "metadata": {},
   "source": [
    "## Part 3 -  Create ETL pipeline for the restaurant review data from the API\n",
    "\n",
    "You've done this for the Businesses, now you need to do this for reviews. You will follow the same process, but your functions will be specific to reviews. Above you ahve a model of the functions you will need to write, and how to pull them together in one script. For this part, you have the process below "
   ]
  },
  {
   "cell_type": "markdown",
   "metadata": {},
   "source": [
    "- In order to pull the reveiws, you will need the business ids. So your first step will be to get all of the business ids from your businesses csv. "
   ]
  },
  {
   "cell_type": "code",
   "execution_count": 398,
   "metadata": {},
   "outputs": [
    {
     "data": {
      "text/plain": [
       "200"
      ]
     },
     "execution_count": 398,
     "metadata": {},
     "output_type": "execute_result"
    }
   ],
   "source": [
    "response = requests.get(url, headers=headers, params=url_params)\n",
    "response.status_code"
   ]
  },
  {
   "cell_type": "markdown",
   "metadata": {},
   "source": [
    "- Write a function that takes a business id and makes a call to the API for reivews\n"
   ]
  },
  {
   "cell_type": "code",
   "execution_count": 365,
   "metadata": {},
   "outputs": [],
   "source": [
    "headers = {'Authorization': 'Bearer {}'.format(api_key)}\n",
    "categories = 'restaurants'\n",
    "url_params_rev = {\"limit\": 50}\n",
    "\n",
    "\n",
    "\n"
   ]
  },
  {
   "cell_type": "code",
   "execution_count": 394,
   "metadata": {},
   "outputs": [],
   "source": [
    "def yelp_call_rev(url_params, given_df):\n",
    "    responses=[]\n",
    "    for business in list(given_df['Id']):\n",
    "        url = 'https://api.yelp.com/v3/businesses/{}/reviews'.format(business)\n",
    "        try:\n",
    "            response = requests.get(url, headers=headers)\n",
    "            responses.append((response.json()['reviews'],business))\n",
    "        except:\n",
    "            continue\n",
    "    return responses\n"
   ]
  },
  {
   "cell_type": "code",
   "execution_count": 387,
   "metadata": {},
   "outputs": [],
   "source": [
    "def parse_results_review(list_of_data, given_df):\n",
    "    review_list = []\n",
    "    for l in yelp_call_rev(url_params, given_df):\n",
    "        for review in l:\n",
    "            for t in review:\n",
    "#             print (t)\n",
    "                try:\n",
    "                    review_tuple = (l[1],\n",
    "                            t['id'],\n",
    "                            t['text'],\n",
    "                            t['rating'],\n",
    "                            t['time_created'])   \n",
    "    # add each individual business tuple to our data container\n",
    "                    review_list.append(review_tuple)\n",
    "                except:\n",
    "                    break\n",
    "    # return the container with all of the parsed results\n",
    "    return review_list"
   ]
  },
  {
   "cell_type": "markdown",
   "metadata": {},
   "source": [
    "- Write a function to parse out the relevant information from the reviews"
   ]
  },
  {
   "cell_type": "markdown",
   "metadata": {},
   "source": [
    "- Write a function to save the parse data into a csv file containing all of the reviews. "
   ]
  },
  {
   "cell_type": "code",
   "execution_count": 223,
   "metadata": {},
   "outputs": [],
   "source": [
    "def df_save_review(csv_file_path, parsed_results):\n",
    "    # your code to open the csv file, concat the current data, and save the data. \n",
    "    business_df = pd.DataFrame(parsed_results, columns = ['Business ID','ID', 'Review', 'Rating', 'Date'])\n",
    "    business_df.to_csv(csv_file_path, mode = 'a')\n",
    "    new_df = pd.read_csv(csv_file_path, delimiter = \",\") #delte this later\n",
    "    return new_df"
   ]
  },
  {
   "cell_type": "markdown",
   "metadata": {},
   "source": [
    "- Combine the functions above into a single script  "
   ]
  },
  {
   "cell_type": "code",
   "execution_count": 395,
   "metadata": {
    "collapsed": true
   },
   "outputs": [
    {
     "data": {
      "text/html": [
       "<div>\n",
       "<style scoped>\n",
       "    .dataframe tbody tr th:only-of-type {\n",
       "        vertical-align: middle;\n",
       "    }\n",
       "\n",
       "    .dataframe tbody tr th {\n",
       "        vertical-align: top;\n",
       "    }\n",
       "\n",
       "    .dataframe thead th {\n",
       "        text-align: right;\n",
       "    }\n",
       "</style>\n",
       "<table border=\"1\" class=\"dataframe\">\n",
       "  <thead>\n",
       "    <tr style=\"text-align: right;\">\n",
       "      <th></th>\n",
       "      <th>Unnamed: 0</th>\n",
       "      <th>Business ID</th>\n",
       "      <th>ID</th>\n",
       "      <th>Review</th>\n",
       "      <th>Rating</th>\n",
       "      <th>Date</th>\n",
       "    </tr>\n",
       "  </thead>\n",
       "  <tbody>\n",
       "    <tr>\n",
       "      <th>0</th>\n",
       "      <td>0</td>\n",
       "      <td>uazg6WhYVOw3jhWCG_MDBg</td>\n",
       "      <td>eoqQ6cSoPLOd7YWAjWNS4A</td>\n",
       "      <td>Sadly due to Covid 19 disaster , we avoid eati...</td>\n",
       "      <td>5</td>\n",
       "      <td>2020-12-25 15:29:31</td>\n",
       "    </tr>\n",
       "    <tr>\n",
       "      <th>1</th>\n",
       "      <td>1</td>\n",
       "      <td>uazg6WhYVOw3jhWCG_MDBg</td>\n",
       "      <td>jth1qrL_taRqkxNe0r5xSw</td>\n",
       "      <td>Sup Thai Kitchen was recommended by our friend...</td>\n",
       "      <td>5</td>\n",
       "      <td>2020-11-14 18:27:22</td>\n",
       "    </tr>\n",
       "    <tr>\n",
       "      <th>2</th>\n",
       "      <td>2</td>\n",
       "      <td>uazg6WhYVOw3jhWCG_MDBg</td>\n",
       "      <td>qZbZ7qQ8omuIMgq-Ju5adA</td>\n",
       "      <td>Sup   means treasure/asset in Thai and this re...</td>\n",
       "      <td>5</td>\n",
       "      <td>2020-11-08 17:15:23</td>\n",
       "    </tr>\n",
       "    <tr>\n",
       "      <th>3</th>\n",
       "      <td>3</td>\n",
       "      <td>cegA4jf16vEt7NCQ7cpu2w</td>\n",
       "      <td>0by1FawYnfJSonyQW3QSLQ</td>\n",
       "      <td>I'm so glad to see this business open and doin...</td>\n",
       "      <td>5</td>\n",
       "      <td>2021-01-10 13:34:52</td>\n",
       "    </tr>\n",
       "    <tr>\n",
       "      <th>4</th>\n",
       "      <td>4</td>\n",
       "      <td>cegA4jf16vEt7NCQ7cpu2w</td>\n",
       "      <td>rKMbqLwkCBIuh6KXE7jxlA</td>\n",
       "      <td>I have been ordering from here via Uber eats d...</td>\n",
       "      <td>5</td>\n",
       "      <td>2021-01-05 03:06:27</td>\n",
       "    </tr>\n",
       "    <tr>\n",
       "      <th>...</th>\n",
       "      <td>...</td>\n",
       "      <td>...</td>\n",
       "      <td>...</td>\n",
       "      <td>...</td>\n",
       "      <td>...</td>\n",
       "      <td>...</td>\n",
       "    </tr>\n",
       "    <tr>\n",
       "      <th>1462</th>\n",
       "      <td>1462</td>\n",
       "      <td>RwEs6AvU5Cxp_ENodsgxHw</td>\n",
       "      <td>mXeQURpQd1FL_uqsAWD7Ow</td>\n",
       "      <td>Amazing food! Ordered take out after passing a...</td>\n",
       "      <td>5</td>\n",
       "      <td>2020-06-26 17:57:52</td>\n",
       "    </tr>\n",
       "    <tr>\n",
       "      <th>1463</th>\n",
       "      <td>1463</td>\n",
       "      <td>RwEs6AvU5Cxp_ENodsgxHw</td>\n",
       "      <td>dNDtsftreJJS-hdi2z9_hw</td>\n",
       "      <td>I ordered delivery through Door Dash.. so it g...</td>\n",
       "      <td>4</td>\n",
       "      <td>2020-07-13 06:49:56</td>\n",
       "    </tr>\n",
       "    <tr>\n",
       "      <th>1464</th>\n",
       "      <td>1464</td>\n",
       "      <td>B9_TgZa8rgW5oZOtXZUMCw</td>\n",
       "      <td>yHgjVJ4g9stpWAFUdBno0A</td>\n",
       "      <td>TL:DR; this laksa slaps and and is the best I'...</td>\n",
       "      <td>5</td>\n",
       "      <td>2020-12-12 09:43:22</td>\n",
       "    </tr>\n",
       "    <tr>\n",
       "      <th>1465</th>\n",
       "      <td>1465</td>\n",
       "      <td>B9_TgZa8rgW5oZOtXZUMCw</td>\n",
       "      <td>fl41eNAD1dyuTHwFZAPspw</td>\n",
       "      <td>Southeast Asian food is a favorite, but if I h...</td>\n",
       "      <td>4</td>\n",
       "      <td>2020-11-20 09:27:24</td>\n",
       "    </tr>\n",
       "    <tr>\n",
       "      <th>1466</th>\n",
       "      <td>1466</td>\n",
       "      <td>B9_TgZa8rgW5oZOtXZUMCw</td>\n",
       "      <td>zatLbiKbbVWbQCaB2lT4FQ</td>\n",
       "      <td>Excellent! The Food tasted Amazing-- complex &amp;...</td>\n",
       "      <td>5</td>\n",
       "      <td>2020-07-05 18:06:57</td>\n",
       "    </tr>\n",
       "  </tbody>\n",
       "</table>\n",
       "<p>1467 rows × 6 columns</p>\n",
       "</div>"
      ],
      "text/plain": [
       "      Unnamed: 0             Business ID                      ID  \\\n",
       "0              0  uazg6WhYVOw3jhWCG_MDBg  eoqQ6cSoPLOd7YWAjWNS4A   \n",
       "1              1  uazg6WhYVOw3jhWCG_MDBg  jth1qrL_taRqkxNe0r5xSw   \n",
       "2              2  uazg6WhYVOw3jhWCG_MDBg  qZbZ7qQ8omuIMgq-Ju5adA   \n",
       "3              3  cegA4jf16vEt7NCQ7cpu2w  0by1FawYnfJSonyQW3QSLQ   \n",
       "4              4  cegA4jf16vEt7NCQ7cpu2w  rKMbqLwkCBIuh6KXE7jxlA   \n",
       "...          ...                     ...                     ...   \n",
       "1462        1462  RwEs6AvU5Cxp_ENodsgxHw  mXeQURpQd1FL_uqsAWD7Ow   \n",
       "1463        1463  RwEs6AvU5Cxp_ENodsgxHw  dNDtsftreJJS-hdi2z9_hw   \n",
       "1464        1464  B9_TgZa8rgW5oZOtXZUMCw  yHgjVJ4g9stpWAFUdBno0A   \n",
       "1465        1465  B9_TgZa8rgW5oZOtXZUMCw  fl41eNAD1dyuTHwFZAPspw   \n",
       "1466        1466  B9_TgZa8rgW5oZOtXZUMCw  zatLbiKbbVWbQCaB2lT4FQ   \n",
       "\n",
       "                                                 Review  Rating  \\\n",
       "0     Sadly due to Covid 19 disaster , we avoid eati...       5   \n",
       "1     Sup Thai Kitchen was recommended by our friend...       5   \n",
       "2     Sup   means treasure/asset in Thai and this re...       5   \n",
       "3     I'm so glad to see this business open and doin...       5   \n",
       "4     I have been ordering from here via Uber eats d...       5   \n",
       "...                                                 ...     ...   \n",
       "1462  Amazing food! Ordered take out after passing a...       5   \n",
       "1463  I ordered delivery through Door Dash.. so it g...       4   \n",
       "1464  TL:DR; this laksa slaps and and is the best I'...       5   \n",
       "1465  Southeast Asian food is a favorite, but if I h...       4   \n",
       "1466  Excellent! The Food tasted Amazing-- complex &...       5   \n",
       "\n",
       "                     Date  \n",
       "0     2020-12-25 15:29:31  \n",
       "1     2020-11-14 18:27:22  \n",
       "2     2020-11-08 17:15:23  \n",
       "3     2021-01-10 13:34:52  \n",
       "4     2021-01-05 03:06:27  \n",
       "...                   ...  \n",
       "1462  2020-06-26 17:57:52  \n",
       "1463  2020-07-13 06:49:56  \n",
       "1464  2020-12-12 09:43:22  \n",
       "1465  2020-11-20 09:27:24  \n",
       "1466  2020-07-05 18:06:57  \n",
       "\n",
       "[1467 rows x 6 columns]"
      ]
     },
     "execution_count": 395,
     "metadata": {},
     "output_type": "execute_result"
    }
   ],
   "source": [
    "#THAI REVIEWS SCRIPT\n",
    "\n",
    "thai_yelpcall = yelp_call_rev(url_params, thaidf)\n",
    "thai_parsed_results = parse_results_review(thai_yelpcall, thaidf)\n",
    "df_save_review('thaireview.csv', thai_parsed_results)    \n"
   ]
  },
  {
   "cell_type": "code",
   "execution_count": 399,
   "metadata": {
    "collapsed": true
   },
   "outputs": [
    {
     "data": {
      "text/html": [
       "<div>\n",
       "<style scoped>\n",
       "    .dataframe tbody tr th:only-of-type {\n",
       "        vertical-align: middle;\n",
       "    }\n",
       "\n",
       "    .dataframe tbody tr th {\n",
       "        vertical-align: top;\n",
       "    }\n",
       "\n",
       "    .dataframe thead th {\n",
       "        text-align: right;\n",
       "    }\n",
       "</style>\n",
       "<table border=\"1\" class=\"dataframe\">\n",
       "  <thead>\n",
       "    <tr style=\"text-align: right;\">\n",
       "      <th></th>\n",
       "      <th>Unnamed: 0</th>\n",
       "      <th>Business ID</th>\n",
       "      <th>ID</th>\n",
       "      <th>Review</th>\n",
       "      <th>Rating</th>\n",
       "      <th>Date</th>\n",
       "    </tr>\n",
       "  </thead>\n",
       "  <tbody>\n",
       "    <tr>\n",
       "      <th>0</th>\n",
       "      <td>0</td>\n",
       "      <td>7YYp_2WYWdRSt_NohV7Psw</td>\n",
       "      <td>kfThRpF-hjfWjwyPgSAYRw</td>\n",
       "      <td>Must try: Three Tacos Combo and Consomé!\\n\\nWh...</td>\n",
       "      <td>5</td>\n",
       "      <td>2021-01-18 07:21:31</td>\n",
       "    </tr>\n",
       "    <tr>\n",
       "      <th>1</th>\n",
       "      <td>1</td>\n",
       "      <td>7YYp_2WYWdRSt_NohV7Psw</td>\n",
       "      <td>jxOA8wOzDGbi9BNq7h47iw</td>\n",
       "      <td>If you're looking for birria tacos but don't w...</td>\n",
       "      <td>4</td>\n",
       "      <td>2021-02-03 08:34:45</td>\n",
       "    </tr>\n",
       "    <tr>\n",
       "      <th>2</th>\n",
       "      <td>2</td>\n",
       "      <td>7YYp_2WYWdRSt_NohV7Psw</td>\n",
       "      <td>53j_6H_eTJztLGtSZrmeew</td>\n",
       "      <td>Conveniently located off the 4/5! Very clean a...</td>\n",
       "      <td>4</td>\n",
       "      <td>2021-01-06 14:34:46</td>\n",
       "    </tr>\n",
       "    <tr>\n",
       "      <th>3</th>\n",
       "      <td>3</td>\n",
       "      <td>6Ct7OeTRn4caY9g0swFBsw</td>\n",
       "      <td>f5EIfn9lcPaOG20gw3j0dQ</td>\n",
       "      <td>Please go support this restaurant! They have c...</td>\n",
       "      <td>5</td>\n",
       "      <td>2021-01-14 09:56:09</td>\n",
       "    </tr>\n",
       "    <tr>\n",
       "      <th>4</th>\n",
       "      <td>4</td>\n",
       "      <td>6Ct7OeTRn4caY9g0swFBsw</td>\n",
       "      <td>z6F-ZmAyH8_hN5rTciqDzA</td>\n",
       "      <td>Small little hole in the wall place with big f...</td>\n",
       "      <td>5</td>\n",
       "      <td>2020-09-30 02:35:05</td>\n",
       "    </tr>\n",
       "    <tr>\n",
       "      <th>...</th>\n",
       "      <td>...</td>\n",
       "      <td>...</td>\n",
       "      <td>...</td>\n",
       "      <td>...</td>\n",
       "      <td>...</td>\n",
       "      <td>...</td>\n",
       "    </tr>\n",
       "    <tr>\n",
       "      <th>1482</th>\n",
       "      <td>1482</td>\n",
       "      <td>s3Zs6FNW-FUTA3ODWOFVsA</td>\n",
       "      <td>pT7hLq8QejWdum-YtPSZhg</td>\n",
       "      <td>OPEN DURING COVID SHELTER-n-PLACE \\n\\nFirst of...</td>\n",
       "      <td>5</td>\n",
       "      <td>2020-05-05 16:27:02</td>\n",
       "    </tr>\n",
       "    <tr>\n",
       "      <th>1483</th>\n",
       "      <td>1483</td>\n",
       "      <td>s3Zs6FNW-FUTA3ODWOFVsA</td>\n",
       "      <td>9JnuQJlyM0Jn7I_s0zVz5w</td>\n",
       "      <td>I was waiting in line at DiFara's (as you do) ...</td>\n",
       "      <td>5</td>\n",
       "      <td>2020-01-12 07:25:21</td>\n",
       "    </tr>\n",
       "    <tr>\n",
       "      <th>1484</th>\n",
       "      <td>1484</td>\n",
       "      <td>60sLpAHHl-IvANGTRzfCow</td>\n",
       "      <td>80GekwTZeQvJa2yV8xtkvg</td>\n",
       "      <td>The plates are average in size but filling. Th...</td>\n",
       "      <td>5</td>\n",
       "      <td>2021-02-13 10:30:47</td>\n",
       "    </tr>\n",
       "    <tr>\n",
       "      <th>1485</th>\n",
       "      <td>1485</td>\n",
       "      <td>60sLpAHHl-IvANGTRzfCow</td>\n",
       "      <td>SyFohkvyBC-ERPyOeFrkMQ</td>\n",
       "      <td>No-frills solid Mexican spot in an area that d...</td>\n",
       "      <td>4</td>\n",
       "      <td>2021-01-14 15:38:27</td>\n",
       "    </tr>\n",
       "    <tr>\n",
       "      <th>1486</th>\n",
       "      <td>1486</td>\n",
       "      <td>60sLpAHHl-IvANGTRzfCow</td>\n",
       "      <td>AqwpDVJxDDljH9iooX7dxQ</td>\n",
       "      <td>This place was absolutely amazing and hit the ...</td>\n",
       "      <td>5</td>\n",
       "      <td>2020-08-01 13:28:10</td>\n",
       "    </tr>\n",
       "  </tbody>\n",
       "</table>\n",
       "<p>1487 rows × 6 columns</p>\n",
       "</div>"
      ],
      "text/plain": [
       "      Unnamed: 0             Business ID                      ID  \\\n",
       "0              0  7YYp_2WYWdRSt_NohV7Psw  kfThRpF-hjfWjwyPgSAYRw   \n",
       "1              1  7YYp_2WYWdRSt_NohV7Psw  jxOA8wOzDGbi9BNq7h47iw   \n",
       "2              2  7YYp_2WYWdRSt_NohV7Psw  53j_6H_eTJztLGtSZrmeew   \n",
       "3              3  6Ct7OeTRn4caY9g0swFBsw  f5EIfn9lcPaOG20gw3j0dQ   \n",
       "4              4  6Ct7OeTRn4caY9g0swFBsw  z6F-ZmAyH8_hN5rTciqDzA   \n",
       "...          ...                     ...                     ...   \n",
       "1482        1482  s3Zs6FNW-FUTA3ODWOFVsA  pT7hLq8QejWdum-YtPSZhg   \n",
       "1483        1483  s3Zs6FNW-FUTA3ODWOFVsA  9JnuQJlyM0Jn7I_s0zVz5w   \n",
       "1484        1484  60sLpAHHl-IvANGTRzfCow  80GekwTZeQvJa2yV8xtkvg   \n",
       "1485        1485  60sLpAHHl-IvANGTRzfCow  SyFohkvyBC-ERPyOeFrkMQ   \n",
       "1486        1486  60sLpAHHl-IvANGTRzfCow  AqwpDVJxDDljH9iooX7dxQ   \n",
       "\n",
       "                                                 Review  Rating  \\\n",
       "0     Must try: Three Tacos Combo and Consomé!\\n\\nWh...       5   \n",
       "1     If you're looking for birria tacos but don't w...       4   \n",
       "2     Conveniently located off the 4/5! Very clean a...       4   \n",
       "3     Please go support this restaurant! They have c...       5   \n",
       "4     Small little hole in the wall place with big f...       5   \n",
       "...                                                 ...     ...   \n",
       "1482  OPEN DURING COVID SHELTER-n-PLACE \\n\\nFirst of...       5   \n",
       "1483  I was waiting in line at DiFara's (as you do) ...       5   \n",
       "1484  The plates are average in size but filling. Th...       5   \n",
       "1485  No-frills solid Mexican spot in an area that d...       4   \n",
       "1486  This place was absolutely amazing and hit the ...       5   \n",
       "\n",
       "                     Date  \n",
       "0     2021-01-18 07:21:31  \n",
       "1     2021-02-03 08:34:45  \n",
       "2     2021-01-06 14:34:46  \n",
       "3     2021-01-14 09:56:09  \n",
       "4     2020-09-30 02:35:05  \n",
       "...                   ...  \n",
       "1482  2020-05-05 16:27:02  \n",
       "1483  2020-01-12 07:25:21  \n",
       "1484  2021-02-13 10:30:47  \n",
       "1485  2021-01-14 15:38:27  \n",
       "1486  2020-08-01 13:28:10  \n",
       "\n",
       "[1487 rows x 6 columns]"
      ]
     },
     "execution_count": 399,
     "metadata": {},
     "output_type": "execute_result"
    }
   ],
   "source": [
    "#MEXICAN REVIEWS SCRIPT\n",
    "\n",
    "mex_yelpcall = yelp_call_rev(url_params, mexdf)\n",
    "    \n",
    "mex_parsed_results=parse_results_review(mex_yelpcall, mexdf)\n",
    "  \n",
    "df_save_review('mexreview.csv',mex_parsed_results)"
   ]
  },
  {
   "cell_type": "code",
   "execution_count": 1024,
   "metadata": {},
   "outputs": [],
   "source": [
    "thai_rev_df=pd.read_csv('thaireview.csv')\n",
    "mex_rev_df=pd.read_csv('mexreview.csv')\n"
   ]
  },
  {
   "cell_type": "code",
   "execution_count": 1030,
   "metadata": {},
   "outputs": [],
   "source": [
    "thaidf['type']='Thai'\n",
    "mexdf['type']='Mexican'"
   ]
  },
  {
   "cell_type": "markdown",
   "metadata": {},
   "source": [
    "___"
   ]
  },
  {
   "cell_type": "markdown",
   "metadata": {},
   "source": [
    "## Part 4 -  Using python and pandas, write code to answer the questions below. \n",
    "\n",
    "\n",
    "- Which are the 5 most reviewed businesses in your dataset?\n",
    "- What is the highest rating recieved in your data set and how many businesses have that rating?\n",
    "- What percentage of businesses have a rating greater than or  4.5?\n",
    "- What percentage of businesses have a rating less than 3?\n",
    "- What percentage of your businesseshave a price label of one dollar sign? Two dollar signs? Three dollar signs? No dollar signs?\n",
    "- Return the text of the reviews for the most reviewed business. \n",
    "- Find the highest rated business and return text of the most recent review. If multiple business have the same rating, select the business with the most reviews. \n",
    "- Find the lowest rated business and return text of the most recent review.  If multiple business have the same rating, select the business with the least reviews. \n"
   ]
  },
  {
   "cell_type": "code",
   "execution_count": 1032,
   "metadata": {
    "scrolled": true
   },
   "outputs": [],
   "source": [
    "df=pd.concat([thaidf,mexdf])\n",
    "df_review=pd.concat([thai_rev_df,mex_rev_df])\n",
    "df=df.set_index('Id')\n",
    "df_review=df_review.set_index('ID')"
   ]
  },
  {
   "cell_type": "code",
   "execution_count": 1033,
   "metadata": {},
   "outputs": [],
   "source": [
    "#had duplicate indicies so dropped that column\n",
    "df=df.drop(df.columns[0], axis=1)\n",
    "df_review=df_review.drop(df_review.columns[0],axis=1)"
   ]
  },
  {
   "cell_type": "code",
   "execution_count": 1035,
   "metadata": {},
   "outputs": [],
   "source": [
    "#had headers in place of data so removed those rows\n",
    "df = df[df['Rating']!='Rating']"
   ]
  },
  {
   "cell_type": "code",
   "execution_count": 1036,
   "metadata": {},
   "outputs": [
    {
     "name": "stderr",
     "output_type": "stream",
     "text": [
      "<ipython-input-1036-c00468c62430>:2: SettingWithCopyWarning: \n",
      "A value is trying to be set on a copy of a slice from a DataFrame.\n",
      "Try using .loc[row_indexer,col_indexer] = value instead\n",
      "\n",
      "See the caveats in the documentation: https://pandas.pydata.org/pandas-docs/stable/user_guide/indexing.html#returning-a-view-versus-a-copy\n",
      "  df['Review Count']=df['Review Count'].astype(int)\n",
      "<ipython-input-1036-c00468c62430>:3: SettingWithCopyWarning: \n",
      "A value is trying to be set on a copy of a slice from a DataFrame.\n",
      "Try using .loc[row_indexer,col_indexer] = value instead\n",
      "\n",
      "See the caveats in the documentation: https://pandas.pydata.org/pandas-docs/stable/user_guide/indexing.html#returning-a-view-versus-a-copy\n",
      "  df['Rating']=df['Rating'].astype(float)\n",
      "<ipython-input-1036-c00468c62430>:4: SettingWithCopyWarning: \n",
      "A value is trying to be set on a copy of a slice from a DataFrame.\n",
      "Try using .loc[row_indexer,col_indexer] = value instead\n",
      "\n",
      "See the caveats in the documentation: https://pandas.pydata.org/pandas-docs/stable/user_guide/indexing.html#returning-a-view-versus-a-copy\n",
      "  df['Price']=df['Price'].astype('string')\n"
     ]
    }
   ],
   "source": [
    "#review count was object type so converted to int to sort\n",
    "df['Review Count']=df['Review Count'].astype(int)\n",
    "df['Rating']=df['Rating'].astype(float)\n",
    "df['Price']=df['Price'].astype('string')\n",
    "\n",
    "thaidf=thaidf[thaidf['Rating']!='Rating']\n",
    "thaidf['Rating']=thaidf['Rating'].astype(float)\n",
    "mexdf=mexdf[mexdf['Rating']!='Rating']\n",
    "mexdf['Rating']=mexdf['Rating'].astype(float)\n",
    "\n"
   ]
  },
  {
   "cell_type": "code",
   "execution_count": 1039,
   "metadata": {},
   "outputs": [
    {
     "data": {
      "text/plain": [
       "ID\n",
       "eoqQ6cSoPLOd7YWAjWNS4A   2020-12-25 15:29:31\n",
       "jth1qrL_taRqkxNe0r5xSw   2020-11-14 18:27:22\n",
       "qZbZ7qQ8omuIMgq-Ju5adA   2020-11-08 17:15:23\n",
       "0by1FawYnfJSonyQW3QSLQ   2021-01-10 13:34:52\n",
       "rKMbqLwkCBIuh6KXE7jxlA   2021-01-05 03:06:27\n",
       "                                 ...        \n",
       "pT7hLq8QejWdum-YtPSZhg   2020-05-05 16:27:02\n",
       "9JnuQJlyM0Jn7I_s0zVz5w   2020-01-12 07:25:21\n",
       "80GekwTZeQvJa2yV8xtkvg   2021-02-13 10:30:47\n",
       "SyFohkvyBC-ERPyOeFrkMQ   2021-01-14 15:38:27\n",
       "AqwpDVJxDDljH9iooX7dxQ   2020-08-01 13:28:10\n",
       "Name: Date, Length: 2954, dtype: datetime64[ns]"
      ]
     },
     "execution_count": 1039,
     "metadata": {},
     "output_type": "execute_result"
    }
   ],
   "source": [
    "#converted all dates to datetime object in order to sort by date\n",
    "\n",
    "from datetime import datetime\n",
    "def convert_dt(string):\n",
    "    date_time_obj=datetime.strptime(string, '%Y-%m-%d %H:%M:%S' )\n",
    "    return date_time_obj\n",
    "df_review['Date'].map(convert_dt)"
   ]
  },
  {
   "cell_type": "code",
   "execution_count": 1040,
   "metadata": {},
   "outputs": [],
   "source": [
    "df_review = df_review.sort_values(by='Date',ascending=False)"
   ]
  },
  {
   "cell_type": "code",
   "execution_count": 1041,
   "metadata": {},
   "outputs": [
    {
     "data": {
      "text/plain": [
       "2    266\n",
       "1    128\n",
       "0     99\n",
       "3      7\n",
       "Name: Price, dtype: int64"
      ]
     },
     "execution_count": 1041,
     "metadata": {},
     "output_type": "execute_result"
    }
   ],
   "source": [
    "#trying to convert price to int \n",
    "\n",
    "def convert_to_len(obj):\n",
    "    if obj=='0':\n",
    "        return 0\n",
    "    else:\n",
    "        return len(obj)\n",
    "    \n",
    "    \n",
    "thaidf['Price'] = thaidf['Price'].fillna('0')\n",
    "    \n",
    "thaidf['Price'] = thaidf['Price'].map(convert_to_len)\n",
    "thaidf['Price'].value_counts()\n",
    "\n",
    "mexdf['Price'] = mexdf['Price'].fillna('0')\n",
    "    \n",
    "mexdf['Price'] = mexdf['Price'].map(convert_to_len)\n",
    "mexdf['Price'].value_counts()"
   ]
  },
  {
   "cell_type": "markdown",
   "metadata": {},
   "source": [
    "PANDAS QUESTIONS"
   ]
  },
  {
   "cell_type": "code",
   "execution_count": 1042,
   "metadata": {},
   "outputs": [
    {
     "data": {
      "text/html": [
       "<div>\n",
       "<style scoped>\n",
       "    .dataframe tbody tr th:only-of-type {\n",
       "        vertical-align: middle;\n",
       "    }\n",
       "\n",
       "    .dataframe tbody tr th {\n",
       "        vertical-align: top;\n",
       "    }\n",
       "\n",
       "    .dataframe thead th {\n",
       "        text-align: right;\n",
       "    }\n",
       "</style>\n",
       "<table border=\"1\" class=\"dataframe\">\n",
       "  <thead>\n",
       "    <tr style=\"text-align: right;\">\n",
       "      <th></th>\n",
       "      <th>Name</th>\n",
       "      <th>Location</th>\n",
       "      <th>Rating</th>\n",
       "      <th>Price</th>\n",
       "      <th>Zipcode</th>\n",
       "      <th>Pickup</th>\n",
       "      <th>Delivery</th>\n",
       "      <th>Reservation</th>\n",
       "      <th>Review Count</th>\n",
       "      <th>Categories</th>\n",
       "      <th>Status</th>\n",
       "      <th>type</th>\n",
       "    </tr>\n",
       "    <tr>\n",
       "      <th>Id</th>\n",
       "      <th></th>\n",
       "      <th></th>\n",
       "      <th></th>\n",
       "      <th></th>\n",
       "      <th></th>\n",
       "      <th></th>\n",
       "      <th></th>\n",
       "      <th></th>\n",
       "      <th></th>\n",
       "      <th></th>\n",
       "      <th></th>\n",
       "      <th></th>\n",
       "    </tr>\n",
       "  </thead>\n",
       "  <tbody>\n",
       "    <tr>\n",
       "      <th>jjJc_CrkB2HodEinB6cWww</th>\n",
       "      <td>LoveMama</td>\n",
       "      <td>174 2nd Ave</td>\n",
       "      <td>4.5</td>\n",
       "      <td>$$</td>\n",
       "      <td>10003</td>\n",
       "      <td>True</td>\n",
       "      <td>True</td>\n",
       "      <td>False</td>\n",
       "      <td>5198</td>\n",
       "      <td>[{'alias': 'thai', 'title': 'Thai'}, {'alias':...</td>\n",
       "      <td>False</td>\n",
       "      <td>Thai</td>\n",
       "    </tr>\n",
       "    <tr>\n",
       "      <th>B3_K2kUVbYOU0VaLcj_LTw</th>\n",
       "      <td>Thai Villa</td>\n",
       "      <td>5 E 19th St</td>\n",
       "      <td>4.5</td>\n",
       "      <td>$$</td>\n",
       "      <td>10003</td>\n",
       "      <td>True</td>\n",
       "      <td>True</td>\n",
       "      <td>False</td>\n",
       "      <td>3549</td>\n",
       "      <td>[{'alias': 'thai', 'title': 'Thai'}, {'alias':...</td>\n",
       "      <td>False</td>\n",
       "      <td>Thai</td>\n",
       "    </tr>\n",
       "    <tr>\n",
       "      <th>NOh24SMS6k4pzNv8Ds7KDg</th>\n",
       "      <td>Cafe Habana</td>\n",
       "      <td>17 Prince St</td>\n",
       "      <td>4.0</td>\n",
       "      <td>$$</td>\n",
       "      <td>10012</td>\n",
       "      <td>True</td>\n",
       "      <td>True</td>\n",
       "      <td>False</td>\n",
       "      <td>3157</td>\n",
       "      <td>[{'alias': 'cuban', 'title': 'Cuban'}, {'alias...</td>\n",
       "      <td>False</td>\n",
       "      <td>Mexican</td>\n",
       "    </tr>\n",
       "    <tr>\n",
       "      <th>QVWmn5jmy_TPmg0G71Dk5g</th>\n",
       "      <td>Sea</td>\n",
       "      <td>114 N 6th St</td>\n",
       "      <td>3.5</td>\n",
       "      <td>$$</td>\n",
       "      <td>11211</td>\n",
       "      <td>True</td>\n",
       "      <td>True</td>\n",
       "      <td>False</td>\n",
       "      <td>3140</td>\n",
       "      <td>[{'alias': 'thai', 'title': 'Thai'}, {'alias':...</td>\n",
       "      <td>False</td>\n",
       "      <td>Thai</td>\n",
       "    </tr>\n",
       "    <tr>\n",
       "      <th>jnEv25Y2DosTq2sNnvmC9g</th>\n",
       "      <td>Los Tacos No.1</td>\n",
       "      <td>75 9th Ave</td>\n",
       "      <td>4.5</td>\n",
       "      <td>$</td>\n",
       "      <td>10011</td>\n",
       "      <td>False</td>\n",
       "      <td>False</td>\n",
       "      <td>False</td>\n",
       "      <td>3068</td>\n",
       "      <td>[{'alias': 'tacos', 'title': 'Tacos'}]</td>\n",
       "      <td>False</td>\n",
       "      <td>Mexican</td>\n",
       "    </tr>\n",
       "  </tbody>\n",
       "</table>\n",
       "</div>"
      ],
      "text/plain": [
       "                                  Name      Location  Rating Price Zipcode  \\\n",
       "Id                                                                           \n",
       "jjJc_CrkB2HodEinB6cWww        LoveMama   174 2nd Ave     4.5    $$   10003   \n",
       "B3_K2kUVbYOU0VaLcj_LTw      Thai Villa   5 E 19th St     4.5    $$   10003   \n",
       "NOh24SMS6k4pzNv8Ds7KDg     Cafe Habana  17 Prince St     4.0    $$   10012   \n",
       "QVWmn5jmy_TPmg0G71Dk5g             Sea  114 N 6th St     3.5    $$   11211   \n",
       "jnEv25Y2DosTq2sNnvmC9g  Los Tacos No.1    75 9th Ave     4.5     $   10011   \n",
       "\n",
       "                       Pickup Delivery Reservation  Review Count  \\\n",
       "Id                                                                 \n",
       "jjJc_CrkB2HodEinB6cWww   True     True       False          5198   \n",
       "B3_K2kUVbYOU0VaLcj_LTw   True     True       False          3549   \n",
       "NOh24SMS6k4pzNv8Ds7KDg   True     True       False          3157   \n",
       "QVWmn5jmy_TPmg0G71Dk5g   True     True       False          3140   \n",
       "jnEv25Y2DosTq2sNnvmC9g  False    False       False          3068   \n",
       "\n",
       "                                                               Categories  \\\n",
       "Id                                                                          \n",
       "jjJc_CrkB2HodEinB6cWww  [{'alias': 'thai', 'title': 'Thai'}, {'alias':...   \n",
       "B3_K2kUVbYOU0VaLcj_LTw  [{'alias': 'thai', 'title': 'Thai'}, {'alias':...   \n",
       "NOh24SMS6k4pzNv8Ds7KDg  [{'alias': 'cuban', 'title': 'Cuban'}, {'alias...   \n",
       "QVWmn5jmy_TPmg0G71Dk5g  [{'alias': 'thai', 'title': 'Thai'}, {'alias':...   \n",
       "jnEv25Y2DosTq2sNnvmC9g             [{'alias': 'tacos', 'title': 'Tacos'}]   \n",
       "\n",
       "                       Status     type  \n",
       "Id                                      \n",
       "jjJc_CrkB2HodEinB6cWww  False     Thai  \n",
       "B3_K2kUVbYOU0VaLcj_LTw  False     Thai  \n",
       "NOh24SMS6k4pzNv8Ds7KDg  False  Mexican  \n",
       "QVWmn5jmy_TPmg0G71Dk5g  False     Thai  \n",
       "jnEv25Y2DosTq2sNnvmC9g  False  Mexican  "
      ]
     },
     "execution_count": 1042,
     "metadata": {},
     "output_type": "execute_result"
    }
   ],
   "source": [
    "#TOP 5 REVIEWS\n",
    "top_5_reviews=df.sort_values('Review Count',ascending=False)[0:5]\n",
    "top_5_reviews"
   ]
  },
  {
   "cell_type": "code",
   "execution_count": 1043,
   "metadata": {},
   "outputs": [],
   "source": [
    "#HIGHEST RATED/ 5 businesses have 5.0 rating\n",
    "highest_rated=df.sort_values('Rating',ascending=False)[0:10]"
   ]
  },
  {
   "cell_type": "code",
   "execution_count": 1044,
   "metadata": {},
   "outputs": [],
   "source": [
    "#RATINGS GREATER THAN OR EQUAL TO 4.5\n",
    "high_ratings_perc=(len(df[df['Rating']>=4.5])/len(df))*100"
   ]
  },
  {
   "cell_type": "code",
   "execution_count": 1045,
   "metadata": {},
   "outputs": [
    {
     "data": {
      "text/plain": [
       "0.7000000000000001"
      ]
     },
     "execution_count": 1045,
     "metadata": {},
     "output_type": "execute_result"
    }
   ],
   "source": [
    "#RATINGS LOWER THAN 3.0\n",
    "low_ratings_perc=(len(df[df['Rating']<3])/len(df))*100\n",
    "low_ratings_perc"
   ]
  },
  {
   "cell_type": "code",
   "execution_count": 1046,
   "metadata": {},
   "outputs": [
    {
     "data": {
      "text/plain": [
       "$$      635\n",
       "$       161\n",
       "$$$       7\n",
       "$$$$      1\n",
       "Name: Price, dtype: Int64"
      ]
     },
     "execution_count": 1046,
     "metadata": {},
     "output_type": "execute_result"
    }
   ],
   "source": [
    "#VALUE COUNTS FOR PRICE DOLLAR SIGNS\n",
    "df['Price'].value_counts()"
   ]
  },
  {
   "cell_type": "code",
   "execution_count": 1013,
   "metadata": {},
   "outputs": [
    {
     "data": {
      "text/plain": [
       "['ID',\n",
       " 'pWWqEQb86iGs7gYoML3thw    my friends and i were all craving different fo...',\n",
       " 'CWFwiYEkzHvb2fuDFTAupA    I was in NYC on Christmas Day and we were sear...',\n",
       " 'yrCJUsjsXzIwNBALVCz3EA    Came back yesterday after 3 years!!! Sorry I w...']"
      ]
     },
     "execution_count": 1013,
     "metadata": {},
     "output_type": "execute_result"
    }
   ],
   "source": [
    "#RETURN TEXT OF REVIEW FOR MOST REVIEWED\n",
    "most_reviews=df[df['Review Count']==df['Review Count'].max()]\n",
    "\n",
    "x=df_review['Review'][(df_review['Business ID'].isin(most_reviews.index))].to_string().split('\\n')\n",
    "x\n"
   ]
  },
  {
   "cell_type": "code",
   "execution_count": 1014,
   "metadata": {},
   "outputs": [],
   "source": [
    "#Find the highest rated business and return text of the most recent review\n",
    "most_rated_reviews=df[df['Rating']==df['Rating'].max()]\n",
    "\n",
    "review_rating= most_rated_reviews[most_rated_reviews['Review Count']==most_rated_reviews['Review Count'].max()]\n",
    "review_rating\n",
    "\n",
    "z=df_review['Review'][(df_review['Business ID'].isin(review_rating.index))]\n",
    "highest_recent_text = z[0]"
   ]
  },
  {
   "cell_type": "code",
   "execution_count": 1015,
   "metadata": {},
   "outputs": [],
   "source": [
    "#Find the lowest rated business and return text of the most recent review\n",
    "\n",
    "least_rated_reviews=df[df['Rating']==df['Rating'].min()]\n",
    "\n",
    "review_low_rating= least_rated_reviews[least_rated_reviews['Review Count']==least_rated_reviews['Review Count'].min()]\n",
    "\n",
    "review_low_rating\n",
    "\n",
    "\n",
    "d=df_review['Review'][(df_review['Business ID'].isin(review_low_rating.index))]\n",
    "\n",
    "lowest_rated= d[0]\n"
   ]
  },
  {
   "cell_type": "markdown",
   "metadata": {},
   "source": [
    "#### VISUALS"
   ]
  },
  {
   "cell_type": "code",
   "execution_count": 1110,
   "metadata": {},
   "outputs": [],
   "source": [
    "sns.set_style('darkgrid')\n",
    "sns.set_theme()"
   ]
  },
  {
   "cell_type": "code",
   "execution_count": 1106,
   "metadata": {},
   "outputs": [
    {
     "data": {
      "text/plain": [
       "(1.0, 6.0)"
      ]
     },
     "execution_count": 1106,
     "metadata": {},
     "output_type": "execute_result"
    },
    {
     "data": {
      "image/png": "[encoded data removed]",
      "text/plain": [
       "<Figure size 432x288 with 1 Axes>"
      ]
     },
     "metadata": {},
     "output_type": "display_data"
    }
   ],
   "source": [
    "thaidf\n",
    "fig,ax=plt.subplots()\n",
    "ax.hist(thaidf['Rating'],edgecolor='black',bins=5)\n",
    "ax.set_title('Thai Restaurant Ratings')\n",
    "ax.set_xlabel('Ratings')\n",
    "ax.set_ylabel('Frequency')\n",
    "ax.set_xlim(1.0,6.0)"
   ]
  },
  {
   "cell_type": "code",
   "execution_count": 1107,
   "metadata": {},
   "outputs": [
    {
     "data": {
      "text/plain": [
       "(1.0, 6.0)"
      ]
     },
     "execution_count": 1107,
     "metadata": {},
     "output_type": "execute_result"
    },
    {
     "data": {
      "image/png": "[encoded data removed]",
      "text/plain": [
       "<Figure size 432x288 with 1 Axes>"
      ]
     },
     "metadata": {},
     "output_type": "display_data"
    }
   ],
   "source": [
    "fig,ax=plt.subplots()\n",
    "ax.hist(mexdf['Rating'],edgecolor='black',bins=5)\n",
    "ax.set_title('Mexican Restaurant Ratings')\n",
    "ax.set_xlabel('Ratings')\n",
    "ax.set_ylabel('Frequency')\n",
    "ax.set_xlim(1.0,6.0)"
   ]
  },
  {
   "cell_type": "code",
   "execution_count": 1108,
   "metadata": {},
   "outputs": [
    {
     "data": {
      "text/plain": [
       "(-0.5, 5.0)"
      ]
     },
     "execution_count": 1108,
     "metadata": {},
     "output_type": "execute_result"
    },
    {
     "data": {
      "image/png": "[encoded data removed]",
      "text/plain": [
       "<Figure size 432x288 with 1 Axes>"
      ]
     },
     "metadata": {},
     "output_type": "display_data"
    }
   ],
   "source": [
    "#looking at price for mex vs price for thai\n",
    "\n",
    "x=thaidf['Price'].value_counts().sort_index().index\n",
    "y= thaidf.groupby('Price')['Price'].count()\n",
    "fig,ax=plt.subplots()\n",
    "plt.bar(x,y)\n",
    "ax.set_title('Thai Restaurant Prices')\n",
    "ax.set_xlabel('Number of Dollar Signs on Yelp')\n",
    "ax.set_ylabel('Number of Restaurants')\n",
    "ax.set_xlim(-.5,5)\n",
    "\n",
    "# ax.set_xticks([0,1,2,3,4])    \n",
    "# ax.set_xticklabels(['N/A','$','$$','$$$','$$$$'])\n",
    "# ax.set_xticklabels(['not provided','cheap','not cheap','expen','very expen'])\n",
    "\n"
   ]
  },
  {
   "cell_type": "code",
   "execution_count": 1050,
   "metadata": {},
   "outputs": [
    {
     "data": {
      "text/plain": [
       "2    266\n",
       "1    128\n",
       "0     99\n",
       "3      7\n",
       "Name: Price, dtype: int64"
      ]
     },
     "execution_count": 1050,
     "metadata": {},
     "output_type": "execute_result"
    }
   ],
   "source": [
    "mexdf['Price'].value_counts()"
   ]
  },
  {
   "cell_type": "code",
   "execution_count": 1111,
   "metadata": {},
   "outputs": [
    {
     "data": {
      "text/plain": [
       "(-0.5, 5.0)"
      ]
     },
     "execution_count": 1111,
     "metadata": {},
     "output_type": "execute_result"
    },
    {
     "data": {
      "image/png": "[encoded data removed]",
      "text/plain": [
       "<Figure size 432x288 with 1 Axes>"
      ]
     },
     "metadata": {},
     "output_type": "display_data"
    }
   ],
   "source": [
    "#looking at price for mex vs price for thai\n",
    "\n",
    "a=mexdf['Price'].value_counts().sort_index().index\n",
    "b= mexdf.groupby('Price')['Price'].count()\n",
    "fig2,ax2=plt.subplots()\n",
    "plt.bar(a,b)\n",
    "ax2.set_title('Mexican Restaurant Prices')\n",
    "ax2.set_xlabel('Number of Dollar Signs on Yelp')\n",
    "ax2.set_ylabel('Number of Restaurants')\n",
    "ax2.set_xlim(-.5,5)\n"
   ]
  },
  {
   "cell_type": "code",
   "execution_count": 1167,
   "metadata": {},
   "outputs": [],
   "source": [
    "def rest_services_visual():\n",
    "    thai_pickup = thaidf[thaidf['Pickup']=='True'].count()['Name']\n",
    "    thai_delivery = thaidf[thaidf['Delivery']=='True'].count()['Name']\n",
    "    thai_reservation = thaidf[thaidf['Reservation']=='True'].count()['Name']\n",
    "\n",
    "    mex_pickup = mexdf[mexdf['Pickup']=='True'].count()['Name']\n",
    "    mex_delivery = mexdf[mexdf['Delivery']=='True'].count()['Name']\n",
    "    mex_reservation = mexdf[mexdf['Reservation']=='True'].count()['Name']\n",
    "\n",
    "    N = 3\n",
    "    thai_bar = (thai_pickup, thai_delivery, thai_reservation)\n",
    "    mex_bar = (mex_pickup, mex_delivery, mex_reservation)\n",
    "\n",
    "    # # Position of bars on x-axis\n",
    "    ind = np.arange(N)\n",
    "    figure,axes=plt.subplots(figsize=(9,5))\n",
    "    width = 0.3       \n",
    "\n",
    "    plt.bar(ind, thai_bar , width, label= 'Thai Services')\n",
    "    plt.bar(ind + width, mex_bar, width, label='Mexican Services')\n",
    "\n",
    "    axes.set_xlabel('Restaurant Services')\n",
    "    axes.set_ylabel('Number')\n",
    "    axes.set_title('Thai vs. Mexican Services')\n",
    "\n",
    "    # xticks()\n",
    "    # First argument - A list of positions at which ticks should be placed\n",
    "    # Second argument -  A list of labels to place at the given locations\n",
    "    axes.set_xticks(ind + width/ 2, ('Pickup', 'Delivery', 'Reservation'))\n",
    "    axes.set_xticklabels(['','Pickup','', 'Delivery','', 'Reservation'])\n",
    "\n",
    "    # Finding the best position for legends and putting it\n",
    "    plt.legend(loc='best')\n",
    "    return plt.show()\n"
   ]
  },
  {
   "cell_type": "code",
   "execution_count": 1168,
   "metadata": {},
   "outputs": [
    {
     "name": "stderr",
     "output_type": "stream",
     "text": [
      "<ipython-input-1167-4e121b937001>:29: MatplotlibDeprecationWarning: Passing the minor parameter of set_ticks() positionally is deprecated since Matplotlib 3.2; the parameter will become keyword-only two minor releases later.\n",
      "  axes.set_xticks(ind + width/ 2, ('Pickup', 'Delivery', 'Reservation'))\n",
      "<ipython-input-1167-4e121b937001>:30: UserWarning: FixedFormatter should only be used together with FixedLocator\n",
      "  axes.set_xticklabels(['','Pickup','', 'Delivery','', 'Reservation'])\n"
     ]
    },
    {
     "data": {
      "image/png": "[encoded data removed]",
      "text/plain": [
       "<Figure size 648x360 with 1 Axes>"
      ]
     },
     "metadata": {},
     "output_type": "display_data"
    }
   ],
   "source": [
    "rest_services_visual()"
   ]
  },
  {
   "cell_type": "code",
   "execution_count": 1144,
   "metadata": {},
   "outputs": [
    {
     "name": "stderr",
     "output_type": "stream",
     "text": [
      "<ipython-input-1144-d764974688c5>:29: MatplotlibDeprecationWarning: Passing the minor parameter of set_ticks() positionally is deprecated since Matplotlib 3.2; the parameter will become keyword-only two minor releases later.\n",
      "  axes.set_xticks(ind + width/ 2, ('Pickup', 'Delivery', 'Reservation'))\n",
      "<ipython-input-1144-d764974688c5>:30: UserWarning: FixedFormatter should only be used together with FixedLocator\n",
      "  axes.set_xticklabels(['','Pickup','', 'Delivery','', 'Reservation'])\n"
     ]
    },
    {
     "data": {
      "image/png": "[encoded data removed]",
      "text/plain": [
       "<Figure size 648x360 with 1 Axes>"
      ]
     },
     "metadata": {},
     "output_type": "display_data"
    }
   ],
   "source": [
    "thai_pickup = thaidf[thaidf['Pickup']=='True'].count()['Name']\n",
    "thai_delivery = thaidf[thaidf['Delivery']=='True'].count()['Name']\n",
    "thai_reservation = thaidf[thaidf['Reservation']=='True'].count()['Name']\n",
    "\n",
    "mex_pickup = mexdf[mexdf['Pickup']=='True'].count()['Name']\n",
    "mex_delivery = mexdf[mexdf['Delivery']=='True'].count()['Name']\n",
    "mex_reservation = mexdf[mexdf['Reservation']=='True'].count()['Name']\n",
    "\n",
    "N = 3\n",
    "thai_bar = (thai_pickup, thai_delivery, thai_reservation)\n",
    "mex_bar = (mex_pickup, mex_delivery, mex_reservation)\n",
    "\n",
    "# # Position of bars on x-axis\n",
    "ind = np.arange(N)\n",
    "figure,axes=plt.subplots(figsize=(9,5))\n",
    "\n",
    "width = 0.3       \n",
    "\n",
    "plt.bar(ind, thai_bar , width, label= 'Thai Services')\n",
    "plt.bar(ind + width, mex_bar, width, label='Mexican Services')\n",
    "\n",
    "axes.set_xlabel('Restaurant Services')\n",
    "axes.set_ylabel('Number')\n",
    "axes.set_title('Thai vs. Mexican Services')\n",
    "\n",
    "# # xticks()\n",
    "# # First argument - A list of positions at which ticks should be placed\n",
    "# # Second argument -  A list of labels to place at the given locations\n",
    "axes.set_xticks(ind + width/ 2, ('Pickup', 'Delivery', 'Reservation'))\n",
    "axes.set_xticklabels(['','Pickup','', 'Delivery','', 'Reservation'])\n",
    "\n",
    "# # Finding the best position for legends and putting it\n",
    "plt.legend(loc='best')\n",
    "\n",
    "# plt.savefig('RestServices.jpeg')\n"
   ]
  },
  {
   "cell_type": "code",
   "execution_count": 1142,
   "metadata": {},
   "outputs": [
    {
     "data": {
      "image/png": "[encoded data removed]",
      "text/plain": [
       "<Figure size 648x360 with 1 Axes>"
      ]
     },
     "metadata": {},
     "output_type": "display_data"
    }
   ],
   "source": [
    "thai_price_0 = thaidf[thaidf['Price'] == 0].count()['Name']\n",
    "thai_price_1 = thaidf[thaidf['Price'] == 1].count()['Name']\n",
    "thai_price_2 = thaidf[thaidf['Price'] == 2].count()['Name']\n",
    "thai_price_3 = thaidf[thaidf['Price'] == 3].count()['Name']\n",
    "thai_price_4 = thaidf[thaidf['Price'] == 4].count()['Name']\n",
    "\n",
    "mex_price_0 = mexdf[mexdf['Price'] == 0].count()['Name']\n",
    "mex_price_1 = mexdf[mexdf['Price'] == 1].count()['Name']\n",
    "mex_price_2 = mexdf[mexdf['Price'] == 2].count()['Name']\n",
    "mex_price_3 = mexdf[mexdf['Price'] == 3].count()['Name']\n",
    "mex_price_4 = mexdf[mexdf['Price'] == 4].count()['Name']\n",
    "\n",
    "N = 5\n",
    "thai_price = (thai_price_0, thai_price_1, thai_price_2, thai_price_3, thai_price_4)\n",
    "mex_price = (mex_price_0, mex_price_1, mex_price_2, mex_price_3, mex_price_4)\n",
    "\n",
    "# # Position of bars on x-axis\n",
    "ind = np.arange(N)\n",
    "figure,axes=plt.subplots(figsize=(9,5))\n",
    "\n",
    "width = 0.3       \n",
    "\n",
    "plt.bar(ind, thai_price , width, label= 'Thai Restaurant Prices')\n",
    "plt.bar(ind + width, mex_price, width, label='Mexican Restaurant Prices')\n",
    "\n",
    "axes.set_xlabel('Restaurant Prices on Yelp')\n",
    "axes.set_ylabel('Number of Restaurants')\n",
    "axes.set_title('Thai vs. Mexican Prices')\n",
    "\n",
    "# # xticks()\n",
    "# # First argument - A list of positions at which ticks should be placed\n",
    "# # Second argument -  A list of labels to place at the given locations\n",
    "# axes.set_xticks(ind + width/ 2, ('Pickup', 'Delivery', 'Reservation'))\n",
    "# axes.set_xticklabels(['','Not given','', 'One dollar sign','', 'Two dollar sign', '', 'Three dollar sign','','Four dollar sign'])\n",
    "\n",
    "# # Finding the best position for legends and putting it\n",
    "plt.legend(loc='best')\n",
    "plt.savefig('RestPrice.jpeg')\n"
   ]
  },
  {
   "cell_type": "code",
   "execution_count": 1116,
   "metadata": {},
   "outputs": [
    {
     "name": "stderr",
     "output_type": "stream",
     "text": [
      "<ipython-input-1116-7e1356bf1abd>:1: SettingWithCopyWarning: \n",
      "A value is trying to be set on a copy of a slice from a DataFrame.\n",
      "Try using .loc[row_indexer,col_indexer] = value instead\n",
      "\n",
      "See the caveats in the documentation: https://pandas.pydata.org/pandas-docs/stable/user_guide/indexing.html#returning-a-view-versus-a-copy\n",
      "  df['Zipcode']=df['Zipcode'].astype(int)\n"
     ]
    }
   ],
   "source": [
    "df['Zipcode']=df['Zipcode'].astype(int)\n",
    "# df.groupby('Zipcode')['Zipcode'].value_counts().describe()"
   ]
  },
  {
   "cell_type": "code",
   "execution_count": 1137,
   "metadata": {},
   "outputs": [
    {
     "data": {
      "image/png": "[encoded data removed]",
      "text/plain": [
       "<Figure size 432x288 with 1 Axes>"
      ]
     },
     "metadata": {},
     "output_type": "display_data"
    }
   ],
   "source": [
    "fig, ax = plt.subplots()\n",
    "\n",
    "# Add a boxplot for the \"Height\" column in the DataFrames\n",
    "ax.boxplot([thaidf['Rating'], mexdf['Rating']], vert=False)\n",
    "ax.set_title('Restaurant Ratings')\n",
    "\n",
    "# Add x-axis tick labels:\n",
    "ax.set_yticklabels(['Thai', \"Mexican\"])\n",
    "\n",
    "# Add a y-axis label\n",
    "ax.set_xlabel(\"Rating\")\n",
    "\n",
    "plt.savefig('RestRatingBoxPlot.jpg')\n"
   ]
  },
  {
   "cell_type": "code",
   "execution_count": 1121,
   "metadata": {},
   "outputs": [
    {
     "data": {
      "image/png": "[encoded data removed]",
      "text/plain": [
       "<Figure size 720x360 with 1 Axes>"
      ]
     },
     "metadata": {},
     "output_type": "display_data"
    }
   ],
   "source": [
    "fig, ax = plt.subplots(figsize=(10,5))\n",
    "\n",
    "# Add a boxplot for the \"Height\" column in the DataFrames\n",
    "ax.boxplot([thaidf['Review Count'], mexdf['Review Count']], vert=False)\n",
    "ax.set_title('Restaurant Review Count')\n",
    "\n",
    "# Add x-axis tick labels:\n",
    "ax.set_yticklabels(['Thai', \"Mexican\"])\n",
    "\n",
    "# Add a y-axis label\n",
    "ax.set_xlabel(\"Review Count\")\n",
    "\n",
    "plt.show()"
   ]
  },
  {
   "cell_type": "code",
   "execution_count": 1120,
   "metadata": {},
   "outputs": [
    {
     "name": "stdout",
     "output_type": "stream",
     "text": [
      "<class 'pandas.core.frame.DataFrame'>\n",
      "Index: 1000 entries, uazg6WhYVOw3jhWCG_MDBg to 60sLpAHHl-IvANGTRzfCow\n",
      "Data columns (total 12 columns):\n",
      " #   Column        Non-Null Count  Dtype  \n",
      "---  ------        --------------  -----  \n",
      " 0   Name          1000 non-null   object \n",
      " 1   Location      996 non-null    object \n",
      " 2   Rating        1000 non-null   float64\n",
      " 3   Price         804 non-null    string \n",
      " 4   Zipcode       1000 non-null   int64  \n",
      " 5   Pickup        1000 non-null   object \n",
      " 6   Delivery      1000 non-null   object \n",
      " 7   Reservation   1000 non-null   object \n",
      " 8   Review Count  1000 non-null   int64  \n",
      " 9   Categories    1000 non-null   object \n",
      " 10  Status        1000 non-null   object \n",
      " 11  type          1000 non-null   object \n",
      "dtypes: float64(1), int64(2), object(8), string(1)\n",
      "memory usage: 101.6+ KB\n"
     ]
    }
   ],
   "source": [
    "thaidf['Review Count'] = thaidf['Review Count'].astype(int)\n",
    "mexdf['Review Count'] = mexdf['Review Count'].astype(int)\n",
    "df.info()"
   ]
  },
  {
   "cell_type": "code",
   "execution_count": 1136,
   "metadata": {},
   "outputs": [
    {
     "data": {
      "image/png": "[encoded data removed]",
      "text/plain": [
       "<Figure size 432x288 with 1 Axes>"
      ]
     },
     "metadata": {},
     "output_type": "display_data"
    }
   ],
   "source": [
    "fig, ax = plt.subplots()\n",
    "# Plot a histogram of \"Weight\" for mens_rowing\n",
    "ax.hist(thaidf['Rating'], label=\"Thai Rating\", bins=5, histtype='step')\n",
    "\n",
    "# Compare to histogram of \"Weight\" for mens_gymnastics\n",
    "ax.hist(mexdf['Rating'], label=\"Mexican Rating\", bins=5, histtype='step')\n",
    "\n",
    "# Set the x-axis label to \"Weight (kg)\"\n",
    "ax.set_xlabel('Rating')\n",
    "\n",
    "# Set the y-axis label to \"# of observations\"\n",
    "ax.set_ylabel('Number of Restaraunts')\n",
    "\n",
    "ax.set_title('Restaurant Rating')\n",
    "\n",
    "ax.legend(loc=2)\n",
    "\n",
    "plt.savefig('RestRatingHist.jpg')\n",
    "\n",
    "#showing a need for higher quality mexican restaurant"
   ]
  },
  {
   "cell_type": "code",
   "execution_count": 1123,
   "metadata": {},
   "outputs": [
    {
     "name": "stderr",
     "output_type": "stream",
     "text": [
      "<ipython-input-1123-fea01e6faa0a>:10: UserWarning: FixedFormatter should only be used together with FixedLocator\n",
      "  ax.set_xticklabels(['Thai', 'Mexican'], rotation=45)\n"
     ]
    },
    {
     "data": {
      "image/png": "[encoded data removed]",
      "text/plain": [
       "<Figure size 432x288 with 1 Axes>"
      ]
     },
     "metadata": {},
     "output_type": "display_data"
    }
   ],
   "source": [
    "#review count toal and rating mean\n",
    "import statistics as stat\n",
    "fig, ax = plt.subplots()\n",
    "\n",
    "# Plot a bar-chart of gold medals as a function of country\n",
    "ax.bar(['Thai', 'Mexican'], [stat.mode(thaidf['Rating']), stat.mode(mexdf['Rating'])])\n",
    "# yerr= [males['Height'].std(), females['Height'].std()]\n",
    "\n",
    "# Set the x-axis tick labels to the country names\n",
    "ax.set_xticklabels(['Thai', 'Mexican'], rotation=45)\n",
    "\n",
    "# Set the y-axis label\n",
    "ax.set_ylabel(\"Rating\")\n",
    "\n",
    "ax.set_title('Comparing Rating Average by Rating')\n",
    "\n",
    "plt.show()"
   ]
  },
  {
   "cell_type": "code",
   "execution_count": 1124,
   "metadata": {},
   "outputs": [
    {
     "name": "stderr",
     "output_type": "stream",
     "text": [
      "<ipython-input-1124-5eac2fc03c22>:9: UserWarning: FixedFormatter should only be used together with FixedLocator\n",
      "  ax.set_yticklabels(['Thai', 'Mexican'], rotation=45)\n"
     ]
    },
    {
     "data": {
      "image/png": "[encoded data removed]",
      "text/plain": [
       "<Figure size 432x288 with 1 Axes>"
      ]
     },
     "metadata": {},
     "output_type": "display_data"
    }
   ],
   "source": [
    "#review count toal and rating mean\n",
    "fig, ax = plt.subplots()\n",
    "\n",
    "# Plot a bar-chart of gold medals as a function of country\n",
    "ax.barh(['Thai', 'Mexican'], [thaidf['Price'].mean(), mexdf['Price'].mean()], color=('green','gray'))\n",
    "# yerr= [males['Height'].std(), females['Height'].std()]\n",
    "\n",
    "# Set the x-axis tick labels to the country names\n",
    "ax.set_yticklabels(['Thai', 'Mexican'], rotation=45)\n",
    "\n",
    "# Set the y-axis label\n",
    "ax.set_xlabel('Number of Dollar Signs')\n",
    "ax.set_ylabel(\"Restaurant Type\")\n",
    "ax.set_xlim(1,1.6)\n",
    "\n",
    "ax.set_title('Comparing Price by Restaurant Cuisine')\n",
    "\n",
    "plt.show()"
   ]
  },
  {
   "cell_type": "code",
   "execution_count": 1125,
   "metadata": {},
   "outputs": [
    {
     "name": "stderr",
     "output_type": "stream",
     "text": [
      "<ipython-input-1125-50115318c464>:9: UserWarning: FixedFormatter should only be used together with FixedLocator\n",
      "  ax.set_xticklabels(['Thai', 'Mexican'], rotation=45)\n"
     ]
    },
    {
     "data": {
      "image/png": "[encoded data removed]",
      "text/plain": [
       "<Figure size 432x288 with 1 Axes>"
      ]
     },
     "metadata": {},
     "output_type": "display_data"
    }
   ],
   "source": [
    "#review count toal and rating mean\n",
    "fig, ax = plt.subplots()\n",
    "\n",
    "# Plot a bar-chart of gold medals as a function of country\n",
    "ax.bar(['Thai', 'Mexican'], [thaidf[thaidf['Rating']==5].count()['Name'], mexdf[mexdf['Rating']==5].count()['Name']])\n",
    "# yerr= [males['Height'].std(), females['Height'].std()]\n",
    "\n",
    "# Set the x-axis tick labels to the country names\n",
    "ax.set_xticklabels(['Thai', 'Mexican'], rotation=45)\n",
    "\n",
    "# Set the y-axis label\n",
    "ax.set_ylabel(\"Rating Greater than 4.0\")\n",
    "\n",
    "ax.set_title('Comparing Ratings by Restaurant')\n",
    "\n",
    "plt.show()"
   ]
  },
  {
   "cell_type": "code",
   "execution_count": 1149,
   "metadata": {},
   "outputs": [
    {
     "name": "stderr",
     "output_type": "stream",
     "text": [
      "<ipython-input-1149-1fb9951d6545>:15: UserWarning: FixedFormatter should only be used together with FixedLocator\n",
      "  ax.set_xticklabels(['Thai', 'Mexican'])\n"
     ]
    },
    {
     "data": {
      "image/png": "[encoded data removed]",
      "text/plain": [
       "<Figure size 720x360 with 1 Axes>"
      ]
     },
     "metadata": {},
     "output_type": "display_data"
    }
   ],
   "source": [
    "#graphing ratings above 4 and review count above 100 for thai vs mex\n",
    "top_rated=df[df['Rating']>=4.5]\n",
    "top_rated=top_rated.sort_values('Review Count', ascending=False)\n",
    "top_rated_and_reviews=top_rated[top_rated['Review Count']>=100]\n",
    "\n",
    "high_mex = top_rated_and_reviews[top_rated_and_reviews['type']=='Mexican']\n",
    "high_thai = top_rated_and_reviews[top_rated_and_reviews['type']=='Thai']\n",
    "\n",
    "fig, ax = plt.subplots(figsize=(10,5))\n",
    "\n",
    "# Plot a bar-chart \n",
    "ax.bar(['Thai', 'Mexican'], [high_thai.count()['Name'], high_mex.count()['Name']], color=('blue','orange'))\n",
    "\n",
    "# Set the x-axis tick labels to the country names\n",
    "ax.set_xticklabels(['Thai', 'Mexican'])\n",
    "\n",
    "# Set the y-axis label\n",
    "ax.set_xlabel('Restaurant Type')\n",
    "ax.set_ylabel('Number of Restaurants')\n",
    "\n",
    "ax.set_title('High Performing Restaurants')\n",
    "ax.set_ylim(0,80)\n",
    "# plt.tight_layout()\n",
    "\n",
    "# plt.savefig('HighPerformingRest.jpg')\n",
    "plt.show()\n"
   ]
  },
  {
   "cell_type": "code",
   "execution_count": 1162,
   "metadata": {},
   "outputs": [
    {
     "name": "stderr",
     "output_type": "stream",
     "text": [
      "<ipython-input-1162-e2db9e6b8ea5>:8: UserWarning: FixedFormatter should only be used together with FixedLocator\n",
      "  ax.set_yticklabels(['Thai', 'Mexican'])\n"
     ]
    },
    {
     "data": {
      "text/plain": [
       "Text(0.5, 1.0, 'High Performing Restaurants')"
      ]
     },
     "execution_count": 1162,
     "metadata": {},
     "output_type": "execute_result"
    },
    {
     "data": {
      "image/png": "[encoded data removed]",
      "text/plain": [
       "<Figure size 720x360 with 1 Axes>"
      ]
     },
     "metadata": {},
     "output_type": "display_data"
    }
   ],
   "source": [
    "fig, ax = plt.subplots(figsize=(10,5))\n",
    "\n",
    "# Plot a bar-chart of gold medals as a function of country\n",
    "ax.barh(['Thai', 'Mexican'], [high_thai.count()['Name'], high_mex.count()['Name']])\n",
    "# yerr= [males['Height'].std(), females['Height'].std()]\n",
    "\n",
    "# Set the x-axis tick labels to the country names\n",
    "ax.set_yticklabels(['Thai', 'Mexican'])\n",
    "\n",
    "# Set the y-axis label\n",
    "ax.set_xlabel('Number of Restaurants')\n",
    "ax.set_ylabel(\"Restaurant Type\")\n",
    "# ax.set_xlim(1,1.6)\n",
    "\n",
    "ax.set_title('High Performing Restaurants')\n",
    "\n",
    "# plt.savefig('HighPerformingResthorizontal.jpg')\n"
   ]
  },
  {
   "cell_type": "code",
   "execution_count": 1163,
   "metadata": {},
   "outputs": [
    {
     "name": "stdout",
     "output_type": "stream",
     "text": [
      "<class 'pandas.core.frame.DataFrame'>\n",
      "Index: 1000 entries, uazg6WhYVOw3jhWCG_MDBg to 60sLpAHHl-IvANGTRzfCow\n",
      "Data columns (total 12 columns):\n",
      " #   Column        Non-Null Count  Dtype  \n",
      "---  ------        --------------  -----  \n",
      " 0   Name          1000 non-null   object \n",
      " 1   Location      996 non-null    object \n",
      " 2   Rating        1000 non-null   float64\n",
      " 3   Price         804 non-null    string \n",
      " 4   Zipcode       1000 non-null   object \n",
      " 5   Pickup        1000 non-null   object \n",
      " 6   Delivery      1000 non-null   object \n",
      " 7   Reservation   1000 non-null   object \n",
      " 8   Review Count  1000 non-null   int64  \n",
      " 9   Categories    1000 non-null   object \n",
      " 10  Status        1000 non-null   object \n",
      " 11  type          1000 non-null   object \n",
      "dtypes: float64(1), int64(1), object(9), string(1)\n",
      "memory usage: 101.6+ KB\n"
     ]
    }
   ],
   "source": [
    "df.info()"
   ]
  },
  {
   "cell_type": "code",
   "execution_count": 1128,
   "metadata": {},
   "outputs": [
    {
     "name": "stderr",
     "output_type": "stream",
     "text": [
      "<ipython-input-1128-1636735854af>:8: SettingWithCopyWarning: \n",
      "A value is trying to be set on a copy of a slice from a DataFrame.\n",
      "Try using .loc[row_indexer,col_indexer] = value instead\n",
      "\n",
      "See the caveats in the documentation: https://pandas.pydata.org/pandas-docs/stable/user_guide/indexing.html#returning-a-view-versus-a-copy\n",
      "  df['Zipcode'] = df['Zipcode'].map( lambda x : str(x).zfill(5))\n"
     ]
    }
   ],
   "source": [
    "# thai_sorted=0\n",
    "# mex_sorted=0\n",
    "# sorted_vals = df.sort_values('Review Count',ascending=False)[0:25]\n",
    "# if sorted_vals.index.isin(mexdf['Id']):\n",
    "#     mex_sorted+=1  \n",
    "# zero_filled_number = number_str.zfill(5) \n",
    "\n",
    "df['Zipcode'] = df['Zipcode'].map( lambda x : str(x).zfill(5))"
   ]
  },
  {
   "cell_type": "code",
   "execution_count": 1129,
   "metadata": {},
   "outputs": [],
   "source": [
    "# zipx = zipy.index\n",
    "# zipy = df.groupby('Zipcode').count()['Name']\n",
    "\n",
    "# fig,ax=plt.subplots(figsize=(20,20))\n",
    "# plt.barh(zipx,zipy)"
   ]
  },
  {
   "cell_type": "code",
   "execution_count": 1130,
   "metadata": {},
   "outputs": [],
   "source": [
    "fp = '/Users/anishamalhotra/Downloads/zip_code_040114.geojson'"
   ]
  },
  {
   "cell_type": "code",
   "execution_count": 1131,
   "metadata": {},
   "outputs": [
    {
     "data": {
      "text/plain": [
       "<AxesSubplot:>"
      ]
     },
     "execution_count": 1131,
     "metadata": {},
     "output_type": "execute_result"
    },
    {
     "data": {
      "image/png": "[encoded data removed]",
      "text/plain": [
       "<Figure size 432x288 with 1 Axes>"
      ]
     },
     "metadata": {},
     "output_type": "display_data"
    }
   ],
   "source": [
    "map_df=gpd.read_file(fp)\n",
    "map_df.plot()"
   ]
  },
  {
   "cell_type": "code",
   "execution_count": 952,
   "metadata": {},
   "outputs": [
    {
     "data": {
      "text/plain": [
       "array([nan], dtype=object)"
      ]
     },
     "execution_count": 952,
     "metadata": {},
     "output_type": "execute_result"
    }
   ],
   "source": [
    "merged['Zipcode'].unique()"
   ]
  },
  {
   "cell_type": "code",
   "execution_count": 950,
   "metadata": {},
   "outputs": [],
   "source": [
    "map_df\n",
    "merged = map_df.set_index('ZIPCODE').join(df.set_index('Zipcode'))"
   ]
  },
  {
   "cell_type": "code",
   "execution_count": 953,
   "metadata": {},
   "outputs": [
    {
     "ename": "KeyError",
     "evalue": "\"None of [Int64Index([  0,   1,   2,   3,   4,   5,   6,   7,   8,   9,\\n            ...\\n            253, 254, 255, 256, 257, 258, 259, 260, 261, 262],\\n           dtype='int64', length=263)] are in the [columns]\"",
     "output_type": "error",
     "traceback": [
      "\u001b[0;31m---------------------------------------------------------------------------\u001b[0m",
      "\u001b[0;31mKeyError\u001b[0m                                  Traceback (most recent call last)",
      "\u001b[0;32m<ipython-input-953-4e768d4fefd0>\u001b[0m in \u001b[0;36m<module>\u001b[0;34m\u001b[0m\n\u001b[1;32m      2\u001b[0m \u001b[0mvmin\u001b[0m\u001b[0;34m,\u001b[0m \u001b[0mvmax\u001b[0m \u001b[0;34m=\u001b[0m \u001b[0;36m120\u001b[0m\u001b[0;34m,\u001b[0m \u001b[0;36m220\u001b[0m\u001b[0;34m\u001b[0m\u001b[0;34m\u001b[0m\u001b[0m\n\u001b[1;32m      3\u001b[0m \u001b[0mfig\u001b[0m\u001b[0;34m,\u001b[0m \u001b[0max\u001b[0m \u001b[0;34m=\u001b[0m \u001b[0mplt\u001b[0m\u001b[0;34m.\u001b[0m\u001b[0msubplots\u001b[0m\u001b[0;34m(\u001b[0m\u001b[0;36m1\u001b[0m\u001b[0;34m,\u001b[0m \u001b[0mfigsize\u001b[0m\u001b[0;34m=\u001b[0m\u001b[0;34m(\u001b[0m\u001b[0;36m10\u001b[0m\u001b[0;34m,\u001b[0m \u001b[0;36m6\u001b[0m\u001b[0;34m)\u001b[0m\u001b[0;34m)\u001b[0m\u001b[0;34m\u001b[0m\u001b[0;34m\u001b[0m\u001b[0m\n\u001b[0;32m----> 4\u001b[0;31m \u001b[0mmerged\u001b[0m\u001b[0;34m.\u001b[0m\u001b[0mplot\u001b[0m\u001b[0;34m(\u001b[0m\u001b[0mcolumn\u001b[0m\u001b[0;34m=\u001b[0m\u001b[0mmerged\u001b[0m\u001b[0;34m.\u001b[0m\u001b[0mindex\u001b[0m\u001b[0;34m,\u001b[0m \u001b[0mcmap\u001b[0m\u001b[0;34m=\u001b[0m\u001b[0;34m'Blue'\u001b[0m\u001b[0;34m,\u001b[0m \u001b[0mlinewidth\u001b[0m\u001b[0;34m=\u001b[0m\u001b[0;36m0.8\u001b[0m\u001b[0;34m,\u001b[0m \u001b[0max\u001b[0m\u001b[0;34m=\u001b[0m\u001b[0max\u001b[0m\u001b[0;34m,\u001b[0m \u001b[0medgecolor\u001b[0m\u001b[0;34m=\u001b[0m\u001b[0;34m'0.8'\u001b[0m\u001b[0;34m)\u001b[0m\u001b[0;34m\u001b[0m\u001b[0;34m\u001b[0m\u001b[0m\n\u001b[0m",
      "\u001b[0;32m/Applications/anaconda3/envs/learn-env/lib/python3.8/site-packages/geopandas/geodataframe.py\u001b[0m in \u001b[0;36mplot\u001b[0;34m(self, *args, **kwargs)\u001b[0m\n\u001b[1;32m    919\u001b[0m         \u001b[0;32mfrom\u001b[0m \u001b[0mthere\u001b[0m\u001b[0;34m.\u001b[0m\u001b[0;34m\u001b[0m\u001b[0;34m\u001b[0m\u001b[0m\n\u001b[1;32m    920\u001b[0m         \"\"\"\n\u001b[0;32m--> 921\u001b[0;31m         \u001b[0;32mreturn\u001b[0m \u001b[0mplot_dataframe\u001b[0m\u001b[0;34m(\u001b[0m\u001b[0mself\u001b[0m\u001b[0;34m,\u001b[0m \u001b[0;34m*\u001b[0m\u001b[0margs\u001b[0m\u001b[0;34m,\u001b[0m \u001b[0;34m**\u001b[0m\u001b[0mkwargs\u001b[0m\u001b[0;34m)\u001b[0m\u001b[0;34m\u001b[0m\u001b[0;34m\u001b[0m\u001b[0m\n\u001b[0m\u001b[1;32m    922\u001b[0m \u001b[0;34m\u001b[0m\u001b[0m\n\u001b[1;32m    923\u001b[0m     \u001b[0mplot\u001b[0m\u001b[0;34m.\u001b[0m\u001b[0m__doc__\u001b[0m \u001b[0;34m=\u001b[0m \u001b[0mplot_dataframe\u001b[0m\u001b[0;34m.\u001b[0m\u001b[0m__doc__\u001b[0m\u001b[0;34m\u001b[0m\u001b[0;34m\u001b[0m\u001b[0m\n",
      "\u001b[0;32m/Applications/anaconda3/envs/learn-env/lib/python3.8/site-packages/geopandas/plotting.py\u001b[0m in \u001b[0;36mplot_dataframe\u001b[0;34m(df, column, cmap, color, ax, cax, categorical, legend, scheme, k, vmin, vmax, markersize, figsize, legend_kwds, categories, classification_kwds, missing_kwds, aspect, **style_kwds)\u001b[0m\n\u001b[1;32m    633\u001b[0m             \u001b[0mvalues\u001b[0m \u001b[0;34m=\u001b[0m \u001b[0mcolumn\u001b[0m\u001b[0;34m\u001b[0m\u001b[0;34m\u001b[0m\u001b[0m\n\u001b[1;32m    634\u001b[0m     \u001b[0;32melse\u001b[0m\u001b[0;34m:\u001b[0m\u001b[0;34m\u001b[0m\u001b[0;34m\u001b[0m\u001b[0m\n\u001b[0;32m--> 635\u001b[0;31m         \u001b[0mvalues\u001b[0m \u001b[0;34m=\u001b[0m \u001b[0mdf\u001b[0m\u001b[0;34m[\u001b[0m\u001b[0mcolumn\u001b[0m\u001b[0;34m]\u001b[0m\u001b[0;34m\u001b[0m\u001b[0;34m\u001b[0m\u001b[0m\n\u001b[0m\u001b[1;32m    636\u001b[0m \u001b[0;34m\u001b[0m\u001b[0m\n\u001b[1;32m    637\u001b[0m     \u001b[0;32mif\u001b[0m \u001b[0mpd\u001b[0m\u001b[0;34m.\u001b[0m\u001b[0mapi\u001b[0m\u001b[0;34m.\u001b[0m\u001b[0mtypes\u001b[0m\u001b[0;34m.\u001b[0m\u001b[0mis_categorical_dtype\u001b[0m\u001b[0;34m(\u001b[0m\u001b[0mvalues\u001b[0m\u001b[0;34m.\u001b[0m\u001b[0mdtype\u001b[0m\u001b[0;34m)\u001b[0m\u001b[0;34m:\u001b[0m\u001b[0;34m\u001b[0m\u001b[0;34m\u001b[0m\u001b[0m\n",
      "\u001b[0;32m/Applications/anaconda3/envs/learn-env/lib/python3.8/site-packages/geopandas/geodataframe.py\u001b[0m in \u001b[0;36m__getitem__\u001b[0;34m(self, key)\u001b[0m\n\u001b[1;32m    826\u001b[0m         \u001b[0mGeoDataFrame\u001b[0m\u001b[0;34m.\u001b[0m\u001b[0;34m\u001b[0m\u001b[0;34m\u001b[0m\u001b[0m\n\u001b[1;32m    827\u001b[0m         \"\"\"\n\u001b[0;32m--> 828\u001b[0;31m         \u001b[0mresult\u001b[0m \u001b[0;34m=\u001b[0m \u001b[0msuper\u001b[0m\u001b[0;34m(\u001b[0m\u001b[0mGeoDataFrame\u001b[0m\u001b[0;34m,\u001b[0m \u001b[0mself\u001b[0m\u001b[0;34m)\u001b[0m\u001b[0;34m.\u001b[0m\u001b[0m__getitem__\u001b[0m\u001b[0;34m(\u001b[0m\u001b[0mkey\u001b[0m\u001b[0;34m)\u001b[0m\u001b[0;34m\u001b[0m\u001b[0;34m\u001b[0m\u001b[0m\n\u001b[0m\u001b[1;32m    829\u001b[0m         \u001b[0mgeo_col\u001b[0m \u001b[0;34m=\u001b[0m \u001b[0mself\u001b[0m\u001b[0;34m.\u001b[0m\u001b[0m_geometry_column_name\u001b[0m\u001b[0;34m\u001b[0m\u001b[0;34m\u001b[0m\u001b[0m\n\u001b[1;32m    830\u001b[0m         \u001b[0;32mif\u001b[0m \u001b[0misinstance\u001b[0m\u001b[0;34m(\u001b[0m\u001b[0mresult\u001b[0m\u001b[0;34m,\u001b[0m \u001b[0mSeries\u001b[0m\u001b[0;34m)\u001b[0m \u001b[0;32mand\u001b[0m \u001b[0misinstance\u001b[0m\u001b[0;34m(\u001b[0m\u001b[0mresult\u001b[0m\u001b[0;34m.\u001b[0m\u001b[0mdtype\u001b[0m\u001b[0;34m,\u001b[0m \u001b[0mGeometryDtype\u001b[0m\u001b[0;34m)\u001b[0m\u001b[0;34m:\u001b[0m\u001b[0;34m\u001b[0m\u001b[0;34m\u001b[0m\u001b[0m\n",
      "\u001b[0;32m/Applications/anaconda3/envs/learn-env/lib/python3.8/site-packages/pandas/core/frame.py\u001b[0m in \u001b[0;36m__getitem__\u001b[0;34m(self, key)\u001b[0m\n\u001b[1;32m   2906\u001b[0m             \u001b[0;32mif\u001b[0m \u001b[0mis_iterator\u001b[0m\u001b[0;34m(\u001b[0m\u001b[0mkey\u001b[0m\u001b[0;34m)\u001b[0m\u001b[0;34m:\u001b[0m\u001b[0;34m\u001b[0m\u001b[0;34m\u001b[0m\u001b[0m\n\u001b[1;32m   2907\u001b[0m                 \u001b[0mkey\u001b[0m \u001b[0;34m=\u001b[0m \u001b[0mlist\u001b[0m\u001b[0;34m(\u001b[0m\u001b[0mkey\u001b[0m\u001b[0;34m)\u001b[0m\u001b[0;34m\u001b[0m\u001b[0;34m\u001b[0m\u001b[0m\n\u001b[0;32m-> 2908\u001b[0;31m             \u001b[0mindexer\u001b[0m \u001b[0;34m=\u001b[0m \u001b[0mself\u001b[0m\u001b[0;34m.\u001b[0m\u001b[0mloc\u001b[0m\u001b[0;34m.\u001b[0m\u001b[0m_get_listlike_indexer\u001b[0m\u001b[0;34m(\u001b[0m\u001b[0mkey\u001b[0m\u001b[0;34m,\u001b[0m \u001b[0maxis\u001b[0m\u001b[0;34m=\u001b[0m\u001b[0;36m1\u001b[0m\u001b[0;34m,\u001b[0m \u001b[0mraise_missing\u001b[0m\u001b[0;34m=\u001b[0m\u001b[0;32mTrue\u001b[0m\u001b[0;34m)\u001b[0m\u001b[0;34m[\u001b[0m\u001b[0;36m1\u001b[0m\u001b[0;34m]\u001b[0m\u001b[0;34m\u001b[0m\u001b[0;34m\u001b[0m\u001b[0m\n\u001b[0m\u001b[1;32m   2909\u001b[0m \u001b[0;34m\u001b[0m\u001b[0m\n\u001b[1;32m   2910\u001b[0m         \u001b[0;31m# take() does not accept boolean indexers\u001b[0m\u001b[0;34m\u001b[0m\u001b[0;34m\u001b[0m\u001b[0;34m\u001b[0m\u001b[0m\n",
      "\u001b[0;32m/Applications/anaconda3/envs/learn-env/lib/python3.8/site-packages/pandas/core/indexing.py\u001b[0m in \u001b[0;36m_get_listlike_indexer\u001b[0;34m(self, key, axis, raise_missing)\u001b[0m\n\u001b[1;32m   1252\u001b[0m             \u001b[0mkeyarr\u001b[0m\u001b[0;34m,\u001b[0m \u001b[0mindexer\u001b[0m\u001b[0;34m,\u001b[0m \u001b[0mnew_indexer\u001b[0m \u001b[0;34m=\u001b[0m \u001b[0max\u001b[0m\u001b[0;34m.\u001b[0m\u001b[0m_reindex_non_unique\u001b[0m\u001b[0;34m(\u001b[0m\u001b[0mkeyarr\u001b[0m\u001b[0;34m)\u001b[0m\u001b[0;34m\u001b[0m\u001b[0;34m\u001b[0m\u001b[0m\n\u001b[1;32m   1253\u001b[0m \u001b[0;34m\u001b[0m\u001b[0m\n\u001b[0;32m-> 1254\u001b[0;31m         \u001b[0mself\u001b[0m\u001b[0;34m.\u001b[0m\u001b[0m_validate_read_indexer\u001b[0m\u001b[0;34m(\u001b[0m\u001b[0mkeyarr\u001b[0m\u001b[0;34m,\u001b[0m \u001b[0mindexer\u001b[0m\u001b[0;34m,\u001b[0m \u001b[0maxis\u001b[0m\u001b[0;34m,\u001b[0m \u001b[0mraise_missing\u001b[0m\u001b[0;34m=\u001b[0m\u001b[0mraise_missing\u001b[0m\u001b[0;34m)\u001b[0m\u001b[0;34m\u001b[0m\u001b[0;34m\u001b[0m\u001b[0m\n\u001b[0m\u001b[1;32m   1255\u001b[0m         \u001b[0;32mreturn\u001b[0m \u001b[0mkeyarr\u001b[0m\u001b[0;34m,\u001b[0m \u001b[0mindexer\u001b[0m\u001b[0;34m\u001b[0m\u001b[0;34m\u001b[0m\u001b[0m\n\u001b[1;32m   1256\u001b[0m \u001b[0;34m\u001b[0m\u001b[0m\n",
      "\u001b[0;32m/Applications/anaconda3/envs/learn-env/lib/python3.8/site-packages/pandas/core/indexing.py\u001b[0m in \u001b[0;36m_validate_read_indexer\u001b[0;34m(self, key, indexer, axis, raise_missing)\u001b[0m\n\u001b[1;32m   1296\u001b[0m             \u001b[0;32mif\u001b[0m \u001b[0mmissing\u001b[0m \u001b[0;34m==\u001b[0m \u001b[0mlen\u001b[0m\u001b[0;34m(\u001b[0m\u001b[0mindexer\u001b[0m\u001b[0;34m)\u001b[0m\u001b[0;34m:\u001b[0m\u001b[0;34m\u001b[0m\u001b[0;34m\u001b[0m\u001b[0m\n\u001b[1;32m   1297\u001b[0m                 \u001b[0maxis_name\u001b[0m \u001b[0;34m=\u001b[0m \u001b[0mself\u001b[0m\u001b[0;34m.\u001b[0m\u001b[0mobj\u001b[0m\u001b[0;34m.\u001b[0m\u001b[0m_get_axis_name\u001b[0m\u001b[0;34m(\u001b[0m\u001b[0maxis\u001b[0m\u001b[0;34m)\u001b[0m\u001b[0;34m\u001b[0m\u001b[0;34m\u001b[0m\u001b[0m\n\u001b[0;32m-> 1298\u001b[0;31m                 \u001b[0;32mraise\u001b[0m \u001b[0mKeyError\u001b[0m\u001b[0;34m(\u001b[0m\u001b[0;34mf\"None of [{key}] are in the [{axis_name}]\"\u001b[0m\u001b[0;34m)\u001b[0m\u001b[0;34m\u001b[0m\u001b[0;34m\u001b[0m\u001b[0m\n\u001b[0m\u001b[1;32m   1299\u001b[0m \u001b[0;34m\u001b[0m\u001b[0m\n\u001b[1;32m   1300\u001b[0m             \u001b[0;31m# We (temporarily) allow for some missing keys with .loc, except in\u001b[0m\u001b[0;34m\u001b[0m\u001b[0;34m\u001b[0m\u001b[0;34m\u001b[0m\u001b[0m\n",
      "\u001b[0;31mKeyError\u001b[0m: \"None of [Int64Index([  0,   1,   2,   3,   4,   5,   6,   7,   8,   9,\\n            ...\\n            253, 254, 255, 256, 257, 258, 259, 260, 261, 262],\\n           dtype='int64', length=263)] are in the [columns]\""
     ]
    },
    {
     "data": {
      "image/png": "[encoded data removed]",
      "text/plain": [
       "<Figure size 720x432 with 1 Axes>"
      ]
     },
     "metadata": {},
     "output_type": "display_data"
    }
   ],
   "source": [
    "variable = merged.index.unique()\n",
    "vmin, vmax = 120, 220\n",
    "fig, ax = plt.subplots(1, figsize=(10, 6))\n",
    "merged.plot(column=merged.index, cmap='Blue', linewidth=0.8, ax=ax, edgecolor='0.8')"
   ]
  },
  {
   "cell_type": "markdown",
   "metadata": {},
   "source": [
    "___"
   ]
  },
  {
   "cell_type": "markdown",
   "metadata": {},
   "source": [
    "# Reference help"
   ]
  },
  {
   "cell_type": "markdown",
   "metadata": {},
   "source": [
    "###  Pagination\n",
    "\n",
    "Returning to the Yelp API, the [documentation](https://www.yelp.com/developers/documentation/v3/business_search) also provides us details regarding the API limits. These often include details about the number of requests a user is allowed to make within a specified time limit and the maximum number of results to be returned. In this case, we are told that any request has a maximum of 50 results per request and defaults to 20. Furthermore, any search will be limited to a total of 1000 results. To retrieve all 1000 of these results, we would have to page through the results piece by piece, retriving 50 at a time. Processes such as these are often refered to as pagination.\n",
    "\n",
    "Now that you have an initial response, you can examine the contents of the json container. For example, you might start with ```response.json().keys()```. Here, you'll see a key for `'total'`, which tells you the full number of matching results given your query parameters. Write a loop (or ideally a function) which then makes successive API calls using the offset parameter to retrieve all of the results (or 5000 for a particularly large result set) for the original query. As you do this, be mindful of how you store the data. \n",
    "\n",
    "**Note: be mindful of the API rate limits. You can only make 5000 requests per day, and APIs can make requests too fast. Start prototyping small before running a loop that could be faulty. You can also use time.sleep(n) to add delays. For more details see https://www.yelp.com/developers/documentation/v3/rate_limiting.**"
   ]
  },
  {
   "cell_type": "markdown",
   "metadata": {},
   "source": [
    "***Below is sample code that you can use to help you deal with the pagination parameter and bring all of the functions together.***\n",
    "\n",
    "\n",
    "***Also, something might cause your code to break while it is running. You don't want to constantly repull the same data when this happens, so you should insert the data into the database as you call and parse it, not after you have all of the data***\n"
   ]
  },
  {
   "cell_type": "code",
   "execution_count": null,
   "metadata": {},
   "outputs": [],
   "source": [
    "# create a variable  to keep track of which result you are in. \n",
    "cur = 0\n",
    "\n",
    "#set up a while loop to go through and grab the result \n",
    "while cur < num and cur < 1000:\n",
    "    #set the offset parameter to be where you currently are in the results \n",
    "    url_params['offset'] = cur\n",
    "    #make your API call with the new offset number\n",
    "    results = yelp_call(url_params, api_key)\n",
    "    \n",
    "    #after you get your results you can now use your function to parse those results\n",
    "    parsed_results = parse_results(results)\n",
    "    \n",
    "    # use your function to insert your parsed results into the db\n",
    "    db_insert(parsed_results)\n",
    "    #increment the counter by 50 to move on to the next results\n",
    "    cur += 20"
   ]
  },
  {
   "cell_type": "code",
   "execution_count": null,
   "metadata": {},
   "outputs": [],
   "source": []
  }
 ],
 "metadata": {
  "kernelspec": {
   "display_name": "Python 3",
   "language": "python",
   "name": "python3"
  },
  "language_info": {
   "codemirror_mode": {
    "name": "ipython",
    "version": 3
   },
   "file_extension": ".py",
   "mimetype": "text/x-python",
   "name": "python",
   "nbconvert_exporter": "python",
   "pygments_lexer": "ipython3",
   "version": "3.8.5"
  },
  "toc": {
   "base_numbering": 1,
   "nav_menu": {},
   "number_sections": false,
   "sideBar": true,
   "skip_h1_title": false,
   "title_cell": "Table of Contents",
   "title_sidebar": "Contents",
   "toc_cell": false,
   "toc_position": {},
   "toc_section_display": true,
   "toc_window_display": false
  }
 },
 "nbformat": 4,
 "nbformat_minor": 2
}

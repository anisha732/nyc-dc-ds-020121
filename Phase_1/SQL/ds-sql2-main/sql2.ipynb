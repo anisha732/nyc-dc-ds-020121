{
 "cells": [
  {
   "cell_type": "markdown",
   "metadata": {},
   "source": [
    "# More SQL Tools"
   ]
  },
  {
   "cell_type": "code",
   "execution_count": 1,
   "metadata": {},
   "outputs": [],
   "source": [
    "import pandas as pd\n",
    "import sqlite3\n",
    "import pandasql"
   ]
  },
  {
   "cell_type": "markdown",
   "metadata": {},
   "source": [
    "![sql](sql-logo.jpg)"
   ]
  },
  {
   "cell_type": "markdown",
   "metadata": {},
   "source": [
    "## Agenda\n",
    "\n",
    "SWBAT:\n",
    "\n",
    "- Use `GROUP BY` for SQL queries of aggregates;\n",
    "- Use `CASE WHEN` as an \"if\" in more complex SQL queries;\n",
    "- Construct SQL queries that involve subqueries;\n",
    "- Connect SQL with `pandas`;\n",
    "- Describe various dialects of SQL;\n",
    "- Describe PostgreSQL as a more sophisticated alternative to SQLite;"
   ]
  },
  {
   "cell_type": "code",
   "execution_count": 2,
   "metadata": {},
   "outputs": [],
   "source": [
    "cur = sqlite3.connect('flights.db').cursor()"
   ]
  },
  {
   "cell_type": "markdown",
   "metadata": {},
   "source": [
    "## Grouping statements\n",
    "\n",
    "Combine `SELECT` and `GROUP BY` when you want *aggregates* by values\n",
    "\n",
    "`SELECT` `COUNT`, `MIN(x)`, `MAX(x)`, `SUM(x)`, etc.\n",
    "\n",
    "`GROUP BY x`\n",
    "\n",
    "**Task**<br>\n",
    "- Which countries have the highest numbers of active airlines? Return the top 25."
   ]
  },
  {
   "cell_type": "code",
   "execution_count": 3,
   "metadata": {},
   "outputs": [
    {
     "data": {
      "text/plain": [
       "[(141, 'United States'),\n",
       " (72, 'Russia'),\n",
       " (40, 'United Kingdom'),\n",
       " (37, 'Germany'),\n",
       " (34, 'Canada'),\n",
       " (26, 'Australia'),\n",
       " (25, 'China'),\n",
       " (24, 'Spain'),\n",
       " (23, 'Brazil'),\n",
       " (22, 'France'),\n",
       " (19, 'Japan'),\n",
       " (18, 'Italy'),\n",
       " (17, 'Indonesia'),\n",
       " (17, 'India'),\n",
       " (16, 'Turkey'),\n",
       " (16, 'Thailand'),\n",
       " (15, 'Sweden'),\n",
       " (14, 'Switzerland'),\n",
       " (13, 'Ukraine'),\n",
       " (13, 'Portugal'),\n",
       " (12, 'Mexico'),\n",
       " (12, 'Finland'),\n",
       " (12, 'Egypt'),\n",
       " (12, 'Austria'),\n",
       " (11, 'Peru')]"
      ]
     },
     "execution_count": 3,
     "metadata": {},
     "output_type": "execute_result"
    }
   ],
   "source": [
    "cur.execute(\n",
    "\"\"\"\n",
    "SELECT COUNT() num, country\n",
    "FROM airlines\n",
    "WHERE active='Y'\n",
    "GROUP BY country\n",
    "ORDER BY num DESC\n",
    "LIMIT 25\n",
    "\"\"\"\n",
    ").fetchall()"
   ]
  },
  {
   "cell_type": "markdown",
   "metadata": {},
   "source": [
    "**Exercise**:\n",
    "- Which countries have the highest numbers of inactive airlines? Return all the countries that have more than 10."
   ]
  },
  {
   "cell_type": "code",
   "execution_count": 13,
   "metadata": {},
   "outputs": [
    {
     "data": {
      "text/plain": [
       "[(939, 'United States'),\n",
       " (427, 'Mexico'),\n",
       " (367, 'United Kingdom'),\n",
       " (284, 'Canada'),\n",
       " (158, 'Russia'),\n",
       " (142, 'Spain'),\n",
       " (97, 'France'),\n",
       " (94, 'Germany'),\n",
       " (81, 'South Africa'),\n",
       " (80, 'Nigeria'),\n",
       " (76, 'Ukraine'),\n",
       " (73, 'Kazakhstan'),\n",
       " (72, 'Italy'),\n",
       " (67, 'Australia'),\n",
       " (55, 'Sweden'),\n",
       " (47, 'Sudan'),\n",
       " (46, 'Switzerland'),\n",
       " (45, 'China'),\n",
       " (43, 'Netherlands'),\n",
       " (38, 'Austria'),\n",
       " (36, 'Egypt'),\n",
       " (35, 'Chile'),\n",
       " (35, 'Brazil'),\n",
       " (35, 'Angola'),\n",
       " (34, 'Colombia'),\n",
       " (32, 'Thailand'),\n",
       " (32, 'Portugal'),\n",
       " (32, 'Mauritania'),\n",
       " (31, 'Indonesia'),\n",
       " (29, 'Kyrgyzstan'),\n",
       " (27, 'Czech Republic'),\n",
       " (25, 'Japan'),\n",
       " (25, 'Dominican Republic'),\n",
       " (25, 'Denmark'),\n",
       " (25, 'Bulgaria'),\n",
       " (24, 'New Zealand'),\n",
       " (24, 'Iran'),\n",
       " (23, 'United Arab Emirates'),\n",
       " (23, 'Turkey'),\n",
       " (23, 'Sierra Leone'),\n",
       " (23, 'Norway'),\n",
       " (23, 'Libya'),\n",
       " (22, 'Venezuela'),\n",
       " (22, 'Pakistan'),\n",
       " (21, 'Uganda'),\n",
       " (21, 'Ireland'),\n",
       " (21, 'Belgium'),\n",
       " (20, 'Zambia'),\n",
       " (20, 'Kenya'),\n",
       " (19, 'Greece'),\n",
       " (19, 'Ecuador'),\n",
       " (19, 'Democratic Republic of the Congo'),\n",
       " (17, 'Moldova'),\n",
       " (17, 'Ghana'),\n",
       " (16, 'Israel'),\n",
       " (15, 'Peru'),\n",
       " (15, 'Ivory Coast'),\n",
       " (15, 'Hungary'),\n",
       " (15, 'Armenia'),\n",
       " (14, 'Slovakia'),\n",
       " (14, 'Haiti'),\n",
       " (14, 'Argentina'),\n",
       " (13, 'Philippines'),\n",
       " (13, 'Lithuania'),\n",
       " (13, 'Lebanon'),\n",
       " (13, None),\n",
       " (12, 'Senegal'),\n",
       " (12, 'Poland'),\n",
       " (12, 'Georgia'),\n",
       " (12, 'Cambodia'),\n",
       " (11, 'Luxembourg'),\n",
       " (11, 'Iceland'),\n",
       " (11, 'Guinea')]"
      ]
     },
     "execution_count": 13,
     "metadata": {},
     "output_type": "execute_result"
    }
   ],
   "source": [
    "# Your code here\n",
    "cur.execute(\n",
    "\"\"\"\n",
    "SELECT count() num, country \n",
    "FROM airlines\n",
    "WHERE (active='N') \n",
    "GROUP BY country\n",
    "HAVING num>10\n",
    "ORDER BY num DESC\n",
    "\"\"\"\n",
    ").fetchall()"
   ]
  },
  {
   "cell_type": "markdown",
   "metadata": {},
   "source": [
    "**Exercise**:\n",
    "\n",
    "- Run a query that will return the number of airports by time zone. Each row should have a number of airports and a time zone."
   ]
  },
  {
   "cell_type": "code",
   "execution_count": 19,
   "metadata": {},
   "outputs": [
    {
     "data": {
      "text/html": [
       "<div>\n",
       "<style scoped>\n",
       "    .dataframe tbody tr th:only-of-type {\n",
       "        vertical-align: middle;\n",
       "    }\n",
       "\n",
       "    .dataframe tbody tr th {\n",
       "        vertical-align: top;\n",
       "    }\n",
       "\n",
       "    .dataframe thead th {\n",
       "        text-align: right;\n",
       "    }\n",
       "</style>\n",
       "<table border=\"1\" class=\"dataframe\">\n",
       "  <thead>\n",
       "    <tr style=\"text-align: right;\">\n",
       "      <th></th>\n",
       "      <th>0</th>\n",
       "      <th>1</th>\n",
       "    </tr>\n",
       "  </thead>\n",
       "  <tbody>\n",
       "    <tr>\n",
       "      <th>0</th>\n",
       "      <td>Africa/Abidjan</td>\n",
       "      <td>7</td>\n",
       "    </tr>\n",
       "    <tr>\n",
       "      <th>1</th>\n",
       "      <td>Africa/Accra</td>\n",
       "      <td>6</td>\n",
       "    </tr>\n",
       "    <tr>\n",
       "      <th>2</th>\n",
       "      <td>Africa/Addis_Ababa</td>\n",
       "      <td>31</td>\n",
       "    </tr>\n",
       "    <tr>\n",
       "      <th>3</th>\n",
       "      <td>Africa/Algiers</td>\n",
       "      <td>44</td>\n",
       "    </tr>\n",
       "    <tr>\n",
       "      <th>4</th>\n",
       "      <td>Africa/Asmera</td>\n",
       "      <td>4</td>\n",
       "    </tr>\n",
       "    <tr>\n",
       "      <th>...</th>\n",
       "      <td>...</td>\n",
       "      <td>...</td>\n",
       "    </tr>\n",
       "    <tr>\n",
       "      <th>289</th>\n",
       "      <td>Pacific/Tongatapu</td>\n",
       "      <td>6</td>\n",
       "    </tr>\n",
       "    <tr>\n",
       "      <th>290</th>\n",
       "      <td>Pacific/Truk</td>\n",
       "      <td>3</td>\n",
       "    </tr>\n",
       "    <tr>\n",
       "      <th>291</th>\n",
       "      <td>Pacific/Wake</td>\n",
       "      <td>1</td>\n",
       "    </tr>\n",
       "    <tr>\n",
       "      <th>292</th>\n",
       "      <td>Pacific/Wallis</td>\n",
       "      <td>2</td>\n",
       "    </tr>\n",
       "    <tr>\n",
       "      <th>293</th>\n",
       "      <td>\\N</td>\n",
       "      <td>92</td>\n",
       "    </tr>\n",
       "  </tbody>\n",
       "</table>\n",
       "<p>294 rows × 2 columns</p>\n",
       "</div>"
      ],
      "text/plain": [
       "                      0   1\n",
       "0        Africa/Abidjan   7\n",
       "1          Africa/Accra   6\n",
       "2    Africa/Addis_Ababa  31\n",
       "3        Africa/Algiers  44\n",
       "4         Africa/Asmera   4\n",
       "..                  ...  ..\n",
       "289   Pacific/Tongatapu   6\n",
       "290        Pacific/Truk   3\n",
       "291        Pacific/Wake   1\n",
       "292      Pacific/Wallis   2\n",
       "293                  \\N  92\n",
       "\n",
       "[294 rows x 2 columns]"
      ]
     },
     "execution_count": 19,
     "metadata": {},
     "output_type": "execute_result"
    }
   ],
   "source": [
    "# Your code here\n",
    "pd.DataFrame(cur.execute(\n",
    "\"\"\"\n",
    "SELECT timezone, count() airports \n",
    "FROM airports\n",
    "GROUP BY timezone\n",
    "\n",
    "\"\"\"\n",
    ").fetchall())"
   ]
  },
  {
   "cell_type": "markdown",
   "metadata": {},
   "source": [
    "### `CASE WHEN`\n",
    "\n",
    "`CASE WHEN` is SQL's version of `if ... then ... else`. It must *always* be closed with an `END`."
   ]
  },
  {
   "cell_type": "code",
   "execution_count": null,
   "metadata": {},
   "outputs": [],
   "source": [
    "# What will this query return?\n",
    "\n",
    "cur.execute(\n",
    "\"\"\"\n",
    "SELECT name, city,\n",
    "CASE WHEN latitude > 0 THEN 'northern hemisphere'\n",
    "ELSE 'southern hemisphere'\n",
    "END AS hemisphere\n",
    "FROM airports\n",
    "\"\"\"\n",
    ").fetchall()"
   ]
  },
  {
   "cell_type": "markdown",
   "metadata": {},
   "source": [
    "### Subqueries\n",
    "\n",
    "For more complex queries it can be helpful to break them down into multiple parts. Subqueries are a natural way to do this.\n",
    "\n",
    "Suppose I wanted to know, after collecting together the highest airport in each country, which one's name comes alphabetically first.\n",
    "\n",
    "I might break this down by first collecting the highest airports and then _wrapping_ that query in a higher query that selects the name and country I want _from_ the result of that first query:"
   ]
  },
  {
   "cell_type": "code",
   "execution_count": null,
   "metadata": {},
   "outputs": [],
   "source": [
    "cur.execute(\n",
    "\"\"\"\n",
    "SELECT MIN(name), country, altitude FROM\n",
    "(SELECT name, code, country, MAX(CAST(altitude AS INT)) AS altitude\n",
    "FROM airports\n",
    "GROUP BY country)\n",
    "\"\"\"\n",
    ").fetchall()"
   ]
  },
  {
   "cell_type": "markdown",
   "metadata": {},
   "source": [
    "## Using sql within `pandas` to filter\n",
    "\n",
    "`.query()`\n",
    "\n",
    "[query documentation](https://pandas.pydata.org/pandas-docs/stable/reference/api/pandas.DataFrame.query.html)\n",
    "\n",
    "### Get data for an example"
   ]
  },
  {
   "cell_type": "code",
   "execution_count": null,
   "metadata": {},
   "outputs": [],
   "source": [
    "shelter_data=pd.read_csv('https://data.austintexas.gov/api/\\\n",
    "views/9t4d-g238/rows.csv?accessType=DOWNLOAD')"
   ]
  },
  {
   "cell_type": "code",
   "execution_count": null,
   "metadata": {},
   "outputs": [],
   "source": [
    "shelter_data[shelter_data['Name'] == \"Oscar\"].head()"
   ]
  },
  {
   "cell_type": "markdown",
   "metadata": {},
   "source": [
    "### With .query()"
   ]
  },
  {
   "cell_type": "code",
   "execution_count": null,
   "metadata": {},
   "outputs": [],
   "source": [
    "oscar_data = shelter_data.query('Name == \"Oscar\"')\n",
    "oscar_data.head()"
   ]
  },
  {
   "cell_type": "markdown",
   "metadata": {},
   "source": [
    "## Transfering from sqlite to pandas\n",
    "\n",
    "`.read_sql()`"
   ]
  },
  {
   "cell_type": "code",
   "execution_count": null,
   "metadata": {},
   "outputs": [],
   "source": [
    "conn = sqlite3.connect(\"flights.db\")\n",
    "df = pd.read_sql(\"SELECT * FROM airports LIMIT 50\", conn)\n",
    "df"
   ]
  },
  {
   "cell_type": "markdown",
   "metadata": {},
   "source": [
    "**Exercise for later**: \n",
    "Convert one of the earlier queries in the lesson to a pandas data frame\n",
    "\n",
    "\n",
    "\n",
    "`pandasql` is a library that allows SQL-style querying of `pandas` DataFrames."
   ]
  },
  {
   "cell_type": "code",
   "execution_count": null,
   "metadata": {},
   "outputs": [],
   "source": [
    "pandasql.sqldf(\"SELECT name, code FROM df LIMIT 10\", env=globals())"
   ]
  },
  {
   "cell_type": "markdown",
   "metadata": {},
   "source": [
    "## Other Dialects of SQL"
   ]
  },
  {
   "cell_type": "markdown",
   "metadata": {},
   "source": [
    "There are many versions of SQL out there! Here are a few of the major players in the workplace:\n",
    "\n",
    "- SQLite (we've already seen this!)\n",
    "- T-SQL (Transact-SQL, used by Microsoft)\n",
    "- PostgreSQL (free and open-source!)\n",
    "- Oracle SQL\n",
    "- MySQL (half open-souce, half Oracle)\n",
    "\n",
    "### More Resources\n",
    "\n",
    "- [blog](https://learnsql.com/blog/what-sql-dialect-to-learn/) <br/>\n",
    "- There's a whole [wikibook](https://en.wikibooks.org/wiki/SQL_Dialects_Reference) on this!"
   ]
  },
  {
   "cell_type": "markdown",
   "metadata": {},
   "source": [
    "## Demo of SQL Interface on data.world"
   ]
  },
  {
   "cell_type": "code",
   "execution_count": null,
   "metadata": {},
   "outputs": [],
   "source": []
  },
  {
   "cell_type": "markdown",
   "metadata": {},
   "source": [
    "## Demo of PostgreSQL"
   ]
  },
  {
   "cell_type": "code",
   "execution_count": null,
   "metadata": {},
   "outputs": [],
   "source": []
  }
 ],
 "metadata": {
  "kernelspec": {
   "display_name": "Python 3",
   "language": "python",
   "name": "python3"
  },
  "language_info": {
   "codemirror_mode": {
    "name": "ipython",
    "version": 3
   },
   "file_extension": ".py",
   "mimetype": "text/x-python",
   "name": "python",
   "nbconvert_exporter": "python",
   "pygments_lexer": "ipython3",
   "version": "3.8.5"
  }
 },
 "nbformat": 4,
 "nbformat_minor": 4
}
